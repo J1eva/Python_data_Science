{
 "cells": [
  {
   "cell_type": "markdown",
   "id": "d410bec4",
   "metadata": {},
   "source": [
    "# Python-Lesson-01"
   ]
  },
  {
   "cell_type": "markdown",
   "id": "c51924ca",
   "metadata": {},
   "source": [
    "## leanring outcomes \n",
    "\n",
    "- various datatypes\n",
    "- formattting\n",
    "\n",
    "#### helping shortcuts--\n",
    "- Command Mode Shortcuts (press Esc to enter command mode):\n",
    "- Enter: Enter edit mode for the selected cell.\n",
    "- Shift + Enter: Run the current cell and select the cell below.\n",
    "- Ctrl + Enter: Run the current cell.\n",
    "- A: Insert a new cell above the current cell.\n",
    "- B: Insert a new cell below the current cell.\n",
    "- D, D (press D twice): Delete the current cell.\n",
    "- Y: Change the cell type to Code.\n",
    "- M: Change the cell type to Markdown.\n",
    "- Up Arrow: Select the cell above.\n",
    "- Down Arrow: Select the cell below.\n",
    "- Edit Mode Shortcuts (press Enter to enter edit mode):\n",
    "- Tab: Code completion or indent.\n",
    "- Shift + Tab: Show docstring (for the object before the cursor).\n",
    "- Ctrl + ]: Indent the current line or selected lines.\n",
    "- Ctrl + [: Dedent the current line or selected lines.\n",
    "- Ctrl + /: Comment/uncomment the current line or selected lines.\n",
    "- Ctrl + Shift + - (minus): Split the current cell at the cursor.\n",
    "- Ctrl + Shift + - (minus): Split the current cell at the cursor.\n",
    "- Ctrl + Shift + - (minus): Split the current cell at the cursor.\n",
    "##### Other Shortcuts:\n",
    "- Ctrl + S: Save the notebook.\n",
    "- Ctrl + Shift + P: Open the command palette.\n",
    "- Esc + F: Find and replace.\n",
    "- Esc + O: Toggle cell output.\n",
    "- Esc + H: Show keyboard shortcuts."
   ]
  },
  {
   "cell_type": "markdown",
   "id": "217c7063",
   "metadata": {},
   "source": [
    "### NUMBERS-BASIC_OPERATIONS\n"
   ]
  },
  {
   "cell_type": "code",
   "execution_count": 1,
   "id": "37c0257f",
   "metadata": {},
   "outputs": [
    {
     "data": {
      "text/plain": [
       "2"
      ]
     },
     "execution_count": 1,
     "metadata": {},
     "output_type": "execute_result"
    }
   ],
   "source": [
    "1+1\n"
   ]
  },
  {
   "cell_type": "code",
   "execution_count": 2,
   "id": "89810632",
   "metadata": {},
   "outputs": [
    {
     "data": {
      "text/plain": [
       "4"
      ]
     },
     "execution_count": 2,
     "metadata": {},
     "output_type": "execute_result"
    }
   ],
   "source": [
    "2*2"
   ]
  },
  {
   "cell_type": "code",
   "execution_count": 1,
   "id": "c875319c",
   "metadata": {},
   "outputs": [
    {
     "data": {
      "text/plain": [
       "'jeevajeevajeevajeeva'"
      ]
     },
     "execution_count": 1,
     "metadata": {},
     "output_type": "execute_result"
    }
   ],
   "source": [
    "4 * 'jeeva'"
   ]
  },
  {
   "cell_type": "markdown",
   "id": "10927811",
   "metadata": {},
   "source": [
    "## Checking_data_types"
   ]
  },
  {
   "cell_type": "markdown",
   "id": "603f7b2f",
   "metadata": {},
   "source": [
    "- using 'type' to check data_types"
   ]
  },
  {
   "cell_type": "code",
   "execution_count": 2,
   "id": "9c8059f5",
   "metadata": {},
   "outputs": [
    {
     "data": {
      "text/plain": [
       "int"
      ]
     },
     "execution_count": 2,
     "metadata": {},
     "output_type": "execute_result"
    }
   ],
   "source": [
    "type(2)"
   ]
  },
  {
   "cell_type": "code",
   "execution_count": 3,
   "id": "c018a587",
   "metadata": {},
   "outputs": [
    {
     "data": {
      "text/plain": [
       "str"
      ]
     },
     "execution_count": 3,
     "metadata": {},
     "output_type": "execute_result"
    }
   ],
   "source": [
    "type(\"siekatsu\")"
   ]
  },
  {
   "cell_type": "code",
   "execution_count": 4,
   "id": "bc12e544",
   "metadata": {},
   "outputs": [
    {
     "data": {
      "text/plain": [
       "str"
      ]
     },
     "execution_count": 4,
     "metadata": {},
     "output_type": "execute_result"
    }
   ],
   "source": [
    "type('t')"
   ]
  },
  {
   "cell_type": "code",
   "execution_count": 5,
   "id": "622b4859",
   "metadata": {},
   "outputs": [
    {
     "data": {
      "text/plain": [
       "float"
      ]
     },
     "execution_count": 5,
     "metadata": {},
     "output_type": "execute_result"
    }
   ],
   "source": [
    "type(1.2)"
   ]
  },
  {
   "cell_type": "code",
   "execution_count": 1,
   "id": "b60bea4e",
   "metadata": {},
   "outputs": [
    {
     "data": {
      "text/plain": [
       "bool"
      ]
     },
     "execution_count": 1,
     "metadata": {},
     "output_type": "execute_result"
    }
   ],
   "source": [
    "type(True)"
   ]
  },
  {
   "cell_type": "markdown",
   "id": "0be05a74",
   "metadata": {},
   "source": [
    "## Variable_Assignments"
   ]
  },
  {
   "cell_type": "markdown",
   "id": "0ebade40",
   "metadata": {},
   "source": [
    "- syntax"
   ]
  },
  {
   "cell_type": "markdown",
   "id": "afd3b140",
   "metadata": {},
   "source": [
    "- var_name=Values"
   ]
  },
  {
   "cell_type": "code",
   "execution_count": 2,
   "id": "efd5b7a3",
   "metadata": {},
   "outputs": [
    {
     "name": "stdout",
     "output_type": "stream",
     "text": [
      "The output is 13\n"
     ]
    }
   ],
   "source": [
    "# mathematical operations with varaible assignment\n",
    "\n",
    "a=10\n",
    "b=3\n",
    "\n",
    "print(\"The output is\",a+b)"
   ]
  },
  {
   "cell_type": "code",
   "execution_count": 8,
   "id": "8e0417d1",
   "metadata": {},
   "outputs": [
    {
     "name": "stdout",
     "output_type": "stream",
     "text": [
      "7\n",
      "1\n",
      "30\n",
      "11\n"
     ]
    }
   ],
   "source": [
    "print(a-b)\n",
    "print(a%b)\n",
    "print(a*b)\n",
    "print(a|b)\n"
   ]
  },
  {
   "cell_type": "code",
   "execution_count": 12,
   "id": "f0be97e3",
   "metadata": {},
   "outputs": [
    {
     "name": "stdout",
     "output_type": "stream",
     "text": [
      "jeevan has the surname M.H.\n"
     ]
    }
   ],
   "source": [
    "# various ways of printing\n",
    "\n",
    "f_n=\"jeevan\"\n",
    "l_n=\"M.H\"\n",
    "\n",
    "print(\"{} has the surname {}.\".format(f_n,l_n))"
   ]
  },
  {
   "cell_type": "code",
   "execution_count": 13,
   "id": "c8de9b5c",
   "metadata": {},
   "outputs": [
    {
     "data": {
      "text/plain": [
       "6"
      ]
     },
     "execution_count": 13,
     "metadata": {},
     "output_type": "execute_result"
    }
   ],
   "source": [
    "len('jeevan')"
   ]
  },
  {
   "cell_type": "code",
   "execution_count": null,
   "id": "0b9ccbd5",
   "metadata": {},
   "outputs": [],
   "source": [
    "#---END--first-lecture---#"
   ]
  },
  {
   "cell_type": "markdown",
   "id": "6b2b51da",
   "metadata": {},
   "source": [
    "# L-2 Python Data_structures and Boolean\n",
    "\n",
    "- Boolean\n",
    "- Boolean and logical Operators\n",
    "- lists\n",
    "- Comparison Operators\n",
    "- Dictionaries\n",
    "- Tuples\n",
    "- Sets\n"
   ]
  },
  {
   "cell_type": "markdown",
   "id": "fe135e00",
   "metadata": {},
   "source": [
    "### Boolean Variables\n",
    "\n",
    "- Boolean values are the tow constant objects True or Flase\n",
    "- They are used to represent truth values(other values considered True or False)\n",
    "- In numeric context--argument to an arthematic operator,they behave like integers 0 and 1 respectively. \n",
    "\n",
    "- The built in function 'bool()' can be used to cast any value to Boolean, if the value can be interpreted as a truth value \n",
    "\n",
    "- they are written as True or False, repectively."
   ]
  },
  {
   "cell_type": "code",
   "execution_count": 14,
   "id": "37c72eeb",
   "metadata": {},
   "outputs": [
    {
     "name": "stdout",
     "output_type": "stream",
     "text": [
      "True False\n"
     ]
    }
   ],
   "source": [
    "print(True,False)"
   ]
  },
  {
   "cell_type": "code",
   "execution_count": 15,
   "id": "d56cb96c",
   "metadata": {},
   "outputs": [
    {
     "data": {
      "text/plain": [
       "bool"
      ]
     },
     "execution_count": 15,
     "metadata": {},
     "output_type": "execute_result"
    }
   ],
   "source": [
    "type(True)"
   ]
  },
  {
   "cell_type": "code",
   "execution_count": 17,
   "id": "897b81af",
   "metadata": {},
   "outputs": [
    {
     "data": {
      "text/plain": [
       "bool"
      ]
     },
     "execution_count": 17,
     "metadata": {},
     "output_type": "execute_result"
    }
   ],
   "source": [
    "type(False)"
   ]
  },
  {
   "cell_type": "markdown",
   "id": "e4885dfd",
   "metadata": {},
   "source": [
    "### #Boolean use case with various string operations"
   ]
  },
  {
   "cell_type": "code",
   "execution_count": 21,
   "id": "f52e6912",
   "metadata": {},
   "outputs": [
    {
     "name": "stdout",
     "output_type": "stream",
     "text": [
      "True\n",
      "False\n",
      "False\n",
      "False\n",
      "False\n",
      "True\n",
      "False\n",
      "True\n",
      "True\n"
     ]
    }
   ],
   "source": [
    "a = \"seikatsu123\"\n",
    "\n",
    "#below are various string operations\n",
    "\n",
    "print(a.isalnum()) #check if all char are number\n",
    "print(a.isalpha()) #check if all char in string are alphabetic\n",
    "print(a.isdigit()) #check if string contains digits\n",
    "print(a.istitle()) #check if string contains title words\n",
    "print(a.isupper()) #check if string contains upper case\n",
    "print(a.islower()) #check if string contains lower case\n",
    "print(a.isspace()) #check if string contains spaces\n",
    "print(a.endswith('3'))#test if string endswith 'x'\n",
    "print(a.startswith('s'))#test if string startswith 'x'"
   ]
  },
  {
   "cell_type": "markdown",
   "id": "1f3e2caf",
   "metadata": {},
   "source": [
    "### Lists\n",
    "- is data structure in python that is a mutable, or changeable, ordered sequence of elements.Each element or value that is inside of a list is called an item.Just as strings are defined as characters between quotes, lists are defined by having values between square brackets[]."
   ]
  },
  {
   "cell_type": "code",
   "execution_count": 1,
   "id": "dd75917d",
   "metadata": {},
   "outputs": [
    {
     "data": {
      "text/plain": [
       "list"
      ]
     },
     "execution_count": 1,
     "metadata": {},
     "output_type": "execute_result"
    }
   ],
   "source": [
    "type([])"
   ]
  },
  {
   "cell_type": "code",
   "execution_count": 2,
   "id": "f8a12e9d",
   "metadata": {},
   "outputs": [],
   "source": [
    "l=[]"
   ]
  },
  {
   "cell_type": "code",
   "execution_count": 3,
   "id": "e48f550a",
   "metadata": {},
   "outputs": [
    {
     "data": {
      "text/plain": [
       "list"
      ]
     },
     "execution_count": 3,
     "metadata": {},
     "output_type": "execute_result"
    }
   ],
   "source": [
    "type(l)"
   ]
  },
  {
   "cell_type": "code",
   "execution_count": 4,
   "id": "31054638",
   "metadata": {},
   "outputs": [],
   "source": [
    "l=list()"
   ]
  },
  {
   "cell_type": "code",
   "execution_count": 5,
   "id": "39bea5e2",
   "metadata": {},
   "outputs": [
    {
     "data": {
      "text/plain": [
       "list"
      ]
     },
     "execution_count": 5,
     "metadata": {},
     "output_type": "execute_result"
    }
   ],
   "source": [
    "type(l)"
   ]
  },
  {
   "cell_type": "code",
   "execution_count": 6,
   "id": "6e7bf8aa",
   "metadata": {},
   "outputs": [],
   "source": [
    "li=['jeeva',200,300,1.2]"
   ]
  },
  {
   "cell_type": "code",
   "execution_count": 7,
   "id": "352ae9a3",
   "metadata": {},
   "outputs": [
    {
     "data": {
      "text/plain": [
       "4"
      ]
     },
     "execution_count": 7,
     "metadata": {},
     "output_type": "execute_result"
    }
   ],
   "source": [
    "len(li)"
   ]
  },
  {
   "cell_type": "code",
   "execution_count": 8,
   "id": "37219dcb",
   "metadata": {},
   "outputs": [
    {
     "data": {
      "text/plain": [
       "list"
      ]
     },
     "execution_count": 8,
     "metadata": {},
     "output_type": "execute_result"
    }
   ],
   "source": [
    "type(li)"
   ]
  },
  {
   "cell_type": "markdown",
   "id": "20f675c9",
   "metadata": {},
   "source": [
    "### Append"
   ]
  },
  {
   "cell_type": "code",
   "execution_count": 9,
   "id": "28f279fc",
   "metadata": {},
   "outputs": [],
   "source": [
    "#'.append' is used to add elements in the list "
   ]
  },
  {
   "cell_type": "code",
   "execution_count": 10,
   "id": "92a47da7",
   "metadata": {},
   "outputs": [],
   "source": [
    "li.append(\"jeeva\")"
   ]
  },
  {
   "cell_type": "code",
   "execution_count": 11,
   "id": "1499a36b",
   "metadata": {},
   "outputs": [
    {
     "data": {
      "text/plain": [
       "['jeeva', 200, 300, 1.2, 'jeeva']"
      ]
     },
     "execution_count": 11,
     "metadata": {},
     "output_type": "execute_result"
    }
   ],
   "source": [
    "li"
   ]
  },
  {
   "cell_type": "code",
   "execution_count": 12,
   "id": "b741a4a8",
   "metadata": {},
   "outputs": [],
   "source": [
    "# indexing in list"
   ]
  },
  {
   "cell_type": "code",
   "execution_count": 13,
   "id": "93f997eb",
   "metadata": {},
   "outputs": [
    {
     "data": {
      "text/plain": [
       "1.2"
      ]
     },
     "execution_count": 13,
     "metadata": {},
     "output_type": "execute_result"
    }
   ],
   "source": [
    "li[3]"
   ]
  },
  {
   "cell_type": "code",
   "execution_count": 14,
   "id": "3330acfe",
   "metadata": {},
   "outputs": [
    {
     "data": {
      "text/plain": [
       "[200, 300, 1.2]"
      ]
     },
     "execution_count": 14,
     "metadata": {},
     "output_type": "execute_result"
    }
   ],
   "source": [
    "li[1:4]"
   ]
  },
  {
   "cell_type": "markdown",
   "id": "e915d95e",
   "metadata": {},
   "source": [
    "### Insert function"
   ]
  },
  {
   "cell_type": "code",
   "execution_count": 15,
   "id": "a0a7f62f",
   "metadata": {},
   "outputs": [],
   "source": [
    "# inserst in specific order "
   ]
  },
  {
   "cell_type": "code",
   "execution_count": 16,
   "id": "a3b56ccb",
   "metadata": {},
   "outputs": [],
   "source": [
    " li.insert(3,\"zhavada\")"
   ]
  },
  {
   "cell_type": "code",
   "execution_count": 17,
   "id": "acebfa75",
   "metadata": {},
   "outputs": [
    {
     "data": {
      "text/plain": [
       "['jeeva', 200, 300, 'zhavada', 1.2, 'jeeva']"
      ]
     },
     "execution_count": 17,
     "metadata": {},
     "output_type": "execute_result"
    }
   ],
   "source": [
    "li"
   ]
  },
  {
   "cell_type": "code",
   "execution_count": 18,
   "id": "9c222383",
   "metadata": {},
   "outputs": [],
   "source": [
    "lis=[1,2,3,4,5,6]"
   ]
  },
  {
   "cell_type": "code",
   "execution_count": 21,
   "id": "abb95e59",
   "metadata": {},
   "outputs": [],
   "source": [
    "lis.extend([7,2,9])"
   ]
  },
  {
   "cell_type": "code",
   "execution_count": 22,
   "id": "af3e420e",
   "metadata": {},
   "outputs": [
    {
     "data": {
      "text/plain": [
       "[1, 2, 3, 4, 5, 6, 7, 8, 9, 7, 2, 9]"
      ]
     },
     "execution_count": 22,
     "metadata": {},
     "output_type": "execute_result"
    }
   ],
   "source": [
    "lis\n"
   ]
  },
  {
   "cell_type": "markdown",
   "id": "ed49b173",
   "metadata": {},
   "source": [
    "## various operations that we can perform in list"
   ]
  },
  {
   "cell_type": "code",
   "execution_count": 23,
   "id": "4b687382",
   "metadata": {},
   "outputs": [],
   "source": [
    "# sum of all the elements in the list"
   ]
  },
  {
   "cell_type": "code",
   "execution_count": 24,
   "id": "52fb098b",
   "metadata": {},
   "outputs": [
    {
     "data": {
      "text/plain": [
       "63"
      ]
     },
     "execution_count": 24,
     "metadata": {},
     "output_type": "execute_result"
    }
   ],
   "source": [
    "sum(lis)"
   ]
  },
  {
   "cell_type": "code",
   "execution_count": 28,
   "id": "f97c2c00",
   "metadata": {},
   "outputs": [],
   "source": [
    "s=[1,2,3,5,6,6]"
   ]
  },
  {
   "cell_type": "code",
   "execution_count": 29,
   "id": "fdf98b5b",
   "metadata": {},
   "outputs": [
    {
     "data": {
      "text/plain": [
       "[1, 2, 3, 5, 6, 6]"
      ]
     },
     "execution_count": 29,
     "metadata": {},
     "output_type": "execute_result"
    }
   ],
   "source": [
    "s"
   ]
  },
  {
   "cell_type": "code",
   "execution_count": 30,
   "id": "728b5487",
   "metadata": {},
   "outputs": [
    {
     "data": {
      "text/plain": [
       "23"
      ]
     },
     "execution_count": 30,
     "metadata": {},
     "output_type": "execute_result"
    }
   ],
   "source": [
    "sum(s)"
   ]
  },
  {
   "cell_type": "code",
   "execution_count": 31,
   "id": "ac443c79",
   "metadata": {},
   "outputs": [],
   "source": [
    "#float and strings are not valid in Sum operation of list"
   ]
  },
  {
   "cell_type": "markdown",
   "id": "51ec3646",
   "metadata": {},
   "source": [
    "### Use of 'pop()' to take out the element out of the list"
   ]
  },
  {
   "cell_type": "code",
   "execution_count": 32,
   "id": "60c6b459",
   "metadata": {},
   "outputs": [
    {
     "data": {
      "text/plain": [
       "8"
      ]
     },
     "execution_count": 32,
     "metadata": {},
     "output_type": "execute_result"
    }
   ],
   "source": [
    "lis.pop(7)"
   ]
  },
  {
   "cell_type": "markdown",
   "id": "4aafc13c",
   "metadata": {},
   "source": [
    "### 'count ()' --calculates total occurance of given element of list"
   ]
  },
  {
   "cell_type": "code",
   "execution_count": 33,
   "id": "2f9a9548",
   "metadata": {},
   "outputs": [
    {
     "data": {
      "text/plain": [
       "2"
      ]
     },
     "execution_count": 33,
     "metadata": {},
     "output_type": "execute_result"
    }
   ],
   "source": [
    "lis.count(2)"
   ]
  },
  {
   "cell_type": "code",
   "execution_count": 34,
   "id": "e1cb84d7",
   "metadata": {},
   "outputs": [
    {
     "data": {
      "text/plain": [
       "11"
      ]
     },
     "execution_count": 34,
     "metadata": {},
     "output_type": "execute_result"
    }
   ],
   "source": [
    "# length: calculates total length of list\n",
    "len(lis)"
   ]
  },
  {
   "cell_type": "code",
   "execution_count": 35,
   "id": "3b98f4d0",
   "metadata": {},
   "outputs": [
    {
     "data": {
      "text/plain": [
       "1"
      ]
     },
     "execution_count": 35,
     "metadata": {},
     "output_type": "execute_result"
    }
   ],
   "source": [
    "#Index():returns the index of first occurance. start and end index are not necessary parameters\n",
    "lis.index(2,0,11)"
   ]
  },
  {
   "cell_type": "code",
   "execution_count": 36,
   "id": "3a0d5b3e",
   "metadata": {},
   "outputs": [],
   "source": [
    "# Min and Max"
   ]
  },
  {
   "cell_type": "code",
   "execution_count": 37,
   "id": "9cee6ba6",
   "metadata": {},
   "outputs": [
    {
     "data": {
      "text/plain": [
       "1"
      ]
     },
     "execution_count": 37,
     "metadata": {},
     "output_type": "execute_result"
    }
   ],
   "source": [
    "min(lis)"
   ]
  },
  {
   "cell_type": "code",
   "execution_count": 38,
   "id": "c5ebd8f5",
   "metadata": {},
   "outputs": [
    {
     "data": {
      "text/plain": [
       "9"
      ]
     },
     "execution_count": 38,
     "metadata": {},
     "output_type": "execute_result"
    }
   ],
   "source": [
    "max(lis)"
   ]
  },
  {
   "cell_type": "markdown",
   "id": "916958df",
   "metadata": {},
   "source": [
    "# L-3- Python-sets,dictionaries and Tuples"
   ]
  },
  {
   "cell_type": "markdown",
   "id": "82071fdf",
   "metadata": {},
   "source": [
    "## Sets \n",
    "- A set is an unordered collection data types that is iterable,mutable and has no duplicate elements.Python's set class represernts the mathematical notion of a set.This based is on data structure known as a hash table"
   ]
  },
  {
   "cell_type": "code",
   "execution_count": 39,
   "id": "bab5dc07",
   "metadata": {},
   "outputs": [],
   "source": [
    "# defining an empty set "
   ]
  },
  {
   "cell_type": "code",
   "execution_count": 40,
   "id": "1245958e",
   "metadata": {},
   "outputs": [],
   "source": [
    "set_var = set()"
   ]
  },
  {
   "cell_type": "code",
   "execution_count": 41,
   "id": "35aef7d2",
   "metadata": {},
   "outputs": [
    {
     "name": "stdout",
     "output_type": "stream",
     "text": [
      "set()\n",
      "<class 'set'>\n"
     ]
    }
   ],
   "source": [
    "print(set_var)\n",
    "print(type(set_var))"
   ]
  },
  {
   "cell_type": "code",
   "execution_count": 44,
   "id": "9aba67d8",
   "metadata": {},
   "outputs": [
    {
     "name": "stdout",
     "output_type": "stream",
     "text": [
      "{'roman', 'hitman', 'jeevan'}\n"
     ]
    },
    {
     "data": {
      "text/plain": [
       "set"
      ]
     },
     "execution_count": 44,
     "metadata": {},
     "output_type": "execute_result"
    }
   ],
   "source": [
    "set_var={\"jeevan\",\"roman\",\"hitman\"}\n",
    "print(set_var)\n",
    "type(set_var)"
   ]
  },
  {
   "cell_type": "code",
   "execution_count": 45,
   "id": "9d8554a9",
   "metadata": {},
   "outputs": [
    {
     "name": "stdout",
     "output_type": "stream",
     "text": [
      "{'roman', 'hitman', 'jeevan', 'reigns'}\n"
     ]
    }
   ],
   "source": [
    "# inbuilt funtion in sets\n",
    "set_var.add(\"reigns\")\n",
    "print(set_var)"
   ]
  },
  {
   "cell_type": "markdown",
   "id": "d9f02ec1",
   "metadata": {},
   "source": [
    "## Dictionaries\n",
    "\n",
    "- A dictionary is a collection which is unoredered, changeable and indexed. in python dictionaries are written with curly brackets, and they have keys and values."
   ]
  },
  {
   "cell_type": "code",
   "execution_count": 46,
   "id": "796edefe",
   "metadata": {},
   "outputs": [],
   "source": [
    "d={}"
   ]
  },
  {
   "cell_type": "code",
   "execution_count": 47,
   "id": "23a3c0f8",
   "metadata": {},
   "outputs": [
    {
     "data": {
      "text/plain": [
       "dict"
      ]
     },
     "execution_count": 47,
     "metadata": {},
     "output_type": "execute_result"
    }
   ],
   "source": [
    "type(d)"
   ]
  },
  {
   "cell_type": "code",
   "execution_count": 48,
   "id": "cdbb0c02",
   "metadata": {},
   "outputs": [],
   "source": [
    "d={1,2,3,4,5}"
   ]
  },
  {
   "cell_type": "code",
   "execution_count": 49,
   "id": "a77db9c9",
   "metadata": {},
   "outputs": [
    {
     "data": {
      "text/plain": [
       "set"
      ]
     },
     "execution_count": 49,
     "metadata": {},
     "output_type": "execute_result"
    }
   ],
   "source": [
    "type(d)"
   ]
  },
  {
   "cell_type": "code",
   "execution_count": 50,
   "id": "64f6010f",
   "metadata": {},
   "outputs": [],
   "source": [
    "# let create a dictionary \n",
    "di={\"set1\":\"biceps\", \"set2\":\"legs\", \"set3\":\"abs\"}"
   ]
  },
  {
   "cell_type": "code",
   "execution_count": 51,
   "id": "7235e786",
   "metadata": {},
   "outputs": [
    {
     "name": "stdout",
     "output_type": "stream",
     "text": [
      "{'set1': 'biceps', 'set2': 'legs', 'set3': 'abs'}\n"
     ]
    }
   ],
   "source": [
    "print(di)"
   ]
  },
  {
   "cell_type": "code",
   "execution_count": 53,
   "id": "56301859",
   "metadata": {},
   "outputs": [
    {
     "data": {
      "text/plain": [
       "'biceps'"
      ]
     },
     "execution_count": 53,
     "metadata": {},
     "output_type": "execute_result"
    }
   ],
   "source": [
    "di['set1']"
   ]
  },
  {
   "cell_type": "code",
   "execution_count": 54,
   "id": "cbeb7642",
   "metadata": {},
   "outputs": [
    {
     "name": "stdout",
     "output_type": "stream",
     "text": [
      "set1\n",
      "set2\n",
      "set3\n"
     ]
    }
   ],
   "source": [
    "# we can even loop through the dictionaries keys\n",
    "\n",
    "for x in di:\n",
    "    print(x)"
   ]
  },
  {
   "cell_type": "code",
   "execution_count": 55,
   "id": "92666d26",
   "metadata": {},
   "outputs": [
    {
     "name": "stdout",
     "output_type": "stream",
     "text": [
      "biceps\n",
      "legs\n",
      "abs\n"
     ]
    }
   ],
   "source": [
    "#we can even loop through the dictionaries values\n",
    "\n",
    "for x in di.values():\n",
    "    print(x)\n"
   ]
  },
  {
   "cell_type": "code",
   "execution_count": 57,
   "id": "0d1acd35",
   "metadata": {},
   "outputs": [
    {
     "name": "stdout",
     "output_type": "stream",
     "text": [
      "('set1', 'biceps')\n",
      "('set2', 'legs')\n",
      "('set3', 'abs')\n"
     ]
    }
   ],
   "source": [
    "# we can also check both keys and values \n",
    "for x in di.items():\n",
    "    print(x)"
   ]
  },
  {
   "cell_type": "code",
   "execution_count": 58,
   "id": "1abf8866",
   "metadata": {},
   "outputs": [],
   "source": [
    "# adding items in dictionaries\n",
    "\n",
    "di['set4']='back'"
   ]
  },
  {
   "cell_type": "code",
   "execution_count": 59,
   "id": "dedbf8e9",
   "metadata": {},
   "outputs": [
    {
     "data": {
      "text/plain": [
       "{'set1': 'biceps', 'set2': 'legs', 'set3': 'abs', 'set4': 'back'}"
      ]
     },
     "execution_count": 59,
     "metadata": {},
     "output_type": "execute_result"
    }
   ],
   "source": [
    "di"
   ]
  },
  {
   "cell_type": "markdown",
   "id": "d552280b",
   "metadata": {},
   "source": [
    "## Nested Dictionary"
   ]
  },
  {
   "cell_type": "code",
   "execution_count": 64,
   "id": "2785c477",
   "metadata": {},
   "outputs": [],
   "source": [
    "set1={'biceps':12}\n",
    "set2={'legs':8}\n",
    "set3={'abs':15}\n",
    "set4={'back':8}\n",
    "\n",
    "set_type={'ex_1':set1,'ex_2':set2,'ex_3':set3,'ex_4':set4}"
   ]
  },
  {
   "cell_type": "code",
   "execution_count": 65,
   "id": "b30c9ed8",
   "metadata": {},
   "outputs": [
    {
     "name": "stdout",
     "output_type": "stream",
     "text": [
      "{'ex_1': {'biceps': 12}, 'ex_2': {'legs': 8}, 'ex_3': {'abs': 15}, 'ex_4': {'back': 8}}\n"
     ]
    }
   ],
   "source": [
    "print(set_type)"
   ]
  },
  {
   "cell_type": "code",
   "execution_count": 66,
   "id": "a46c2872",
   "metadata": {},
   "outputs": [
    {
     "name": "stdout",
     "output_type": "stream",
     "text": [
      "{'abs': 15}\n"
     ]
    }
   ],
   "source": [
    "#accessing the items in the dictionary\n",
    "print(set_type['ex_3'])"
   ]
  },
  {
   "cell_type": "code",
   "execution_count": 69,
   "id": "db20d906",
   "metadata": {},
   "outputs": [
    {
     "name": "stdout",
     "output_type": "stream",
     "text": [
      "8\n"
     ]
    }
   ],
   "source": [
    "print(set_type['ex_2']['legs'])"
   ]
  },
  {
   "cell_type": "markdown",
   "id": "7690c6bd",
   "metadata": {},
   "source": [
    "## Tuples"
   ]
  },
  {
   "cell_type": "code",
   "execution_count": 70,
   "id": "e0248bf3",
   "metadata": {},
   "outputs": [],
   "source": [
    "# create an empty tuple\n",
    "\n",
    "tu=tuple()"
   ]
  },
  {
   "cell_type": "code",
   "execution_count": 71,
   "id": "74552dfc",
   "metadata": {},
   "outputs": [
    {
     "data": {
      "text/plain": [
       "tuple"
      ]
     },
     "execution_count": 71,
     "metadata": {},
     "output_type": "execute_result"
    }
   ],
   "source": [
    "type(tu)"
   ]
  },
  {
   "cell_type": "code",
   "execution_count": 72,
   "id": "1eaac1a1",
   "metadata": {},
   "outputs": [],
   "source": [
    "tu=(\"jeevan\",\"roman\",\"reigns\")"
   ]
  },
  {
   "cell_type": "code",
   "execution_count": 73,
   "id": "b74a50ef",
   "metadata": {},
   "outputs": [
    {
     "data": {
      "text/plain": [
       "'jeevan'"
      ]
     },
     "execution_count": 73,
     "metadata": {},
     "output_type": "execute_result"
    }
   ],
   "source": [
    "tu[0]"
   ]
  },
  {
   "cell_type": "markdown",
   "id": "0ae5ad02",
   "metadata": {},
   "source": [
    "# Numpy Introduction(L-4)\n",
    "\n",
    "## NumPy tutorial\n",
    "\n",
    "- NumPy is a genreal-purpose array-processing package. it provides a high-performance multidimensional array object, and tools for working with these arrays. it is the fundamental packages for scientific computing with python\n",
    "\n",
    "- NumPy has binding from c++\n",
    "\n",
    "### Array\n",
    "\n",
    "- An array is a data structure that stores values of same data type. in Python, this is main difference between arrays and lists.While python lists can contain value corresponding to different data types, arrays in python can only contain values corresponding to same data type"
   ]
  },
  {
   "cell_type": "code",
   "execution_count": 2,
   "id": "721edbe9",
   "metadata": {},
   "outputs": [
    {
     "name": "stdout",
     "output_type": "stream",
     "text": [
      "Retrieving notices: ...working... done\n",
      "Collecting package metadata (current_repodata.json): ...working... done\n",
      "Solving environment: ...working... done\n",
      "\n",
      "## Package Plan ##\n",
      "\n",
      "  environment location: C:\\Users\\Planet\\anaconda3\n",
      "\n",
      "  added / updated specs:\n",
      "    - numpy\n",
      "\n",
      "\n",
      "The following packages will be downloaded:\n",
      "\n",
      "    package                    |            build\n",
      "    ---------------------------|-----------------\n",
      "    ca-certificates-2024.3.11  |       haa95532_0         128 KB\n",
      "    certifi-2024.2.2           |  py311haa95532_0         162 KB\n",
      "    ------------------------------------------------------------\n",
      "                                           Total:         290 KB\n",
      "\n",
      "The following packages will be UPDATED:\n",
      "\n",
      "  ca-certificates                     2023.08.22-haa95532_0 --> 2024.3.11-haa95532_0 \n",
      "  certifi                         2023.7.22-py311haa95532_0 --> 2024.2.2-py311haa95532_0 \n",
      "\n",
      "\n",
      "\n",
      "Downloading and Extracting Packages\n",
      "\n",
      "certifi-2024.2.2     | 162 KB    |            |   0% \n",
      "\n",
      "ca-certificates-2024 | 128 KB    |            |   0% \u001b[A\n",
      "\n",
      "ca-certificates-2024 | 128 KB    | #2         |  12% \u001b[A\n",
      "certifi-2024.2.2     | 162 KB    | 9          |  10% \n",
      "\n",
      "ca-certificates-2024 | 128 KB    | ########## | 100% \u001b[A\n",
      "certifi-2024.2.2     | 162 KB    | ########## | 100% \n",
      "                                                     \n",
      "\n",
      "\n",
      "                                                     \u001b[A\n",
      "\n",
      "Preparing transaction: ...working... done\n",
      "Verifying transaction: ...working... done\n",
      "Executing transaction: ...working... done\n",
      "\n",
      "Note: you may need to restart the kernel to use updated packages.\n"
     ]
    },
    {
     "name": "stderr",
     "output_type": "stream",
     "text": [
      "DEBUG:urllib3.connectionpool:Starting new HTTPS connection (1): repo.anaconda.com:443\n",
      "DEBUG:urllib3.connectionpool:Starting new HTTPS connection (1): repo.anaconda.com:443\n",
      "DEBUG:urllib3.connectionpool:Starting new HTTPS connection (1): repo.anaconda.com:443\n",
      "DEBUG:urllib3.connectionpool:https://repo.anaconda.com:443 \"GET /pkgs/main/notices.json HTTP/1.1\" 404 None\n",
      "DEBUG:urllib3.connectionpool:https://repo.anaconda.com:443 \"GET /pkgs/r/notices.json HTTP/1.1\" 404 None\n",
      "DEBUG:urllib3.connectionpool:https://repo.anaconda.com:443 \"GET /pkgs/msys2/notices.json HTTP/1.1\" 404 None\n",
      "DEBUG:urllib3.connectionpool:Starting new HTTPS connection (1): repo.anaconda.com:443\n",
      "DEBUG:urllib3.connectionpool:Starting new HTTPS connection (1): repo.anaconda.com:443\n",
      "DEBUG:urllib3.connectionpool:Starting new HTTPS connection (1): repo.anaconda.com:443\n",
      "DEBUG:urllib3.connectionpool:Starting new HTTPS connection (1): repo.anaconda.com:443\n",
      "DEBUG:urllib3.connectionpool:Starting new HTTPS connection (1): repo.anaconda.com:443\n",
      "DEBUG:urllib3.connectionpool:Starting new HTTPS connection (1): repo.anaconda.com:443\n",
      "DEBUG:urllib3.connectionpool:https://repo.anaconda.com:443 \"GET /pkgs/msys2/noarch/current_repodata.json HTTP/1.1\" 304 0\n",
      "DEBUG:urllib3.connectionpool:https://repo.anaconda.com:443 \"GET /pkgs/main/win-64/current_repodata.json HTTP/1.1\" 200 None\n",
      "DEBUG:urllib3.connectionpool:https://repo.anaconda.com:443 \"GET /pkgs/r/win-64/current_repodata.json HTTP/1.1\" 304 0\n",
      "DEBUG:urllib3.connectionpool:https://repo.anaconda.com:443 \"GET /pkgs/r/noarch/current_repodata.json HTTP/1.1\" 200 None\n",
      "DEBUG:urllib3.connectionpool:https://repo.anaconda.com:443 \"GET /pkgs/main/noarch/current_repodata.json HTTP/1.1\" 200 None\n",
      "DEBUG:urllib3.connectionpool:https://repo.anaconda.com:443 \"GET /pkgs/msys2/win-64/current_repodata.json HTTP/1.1\" 304 0\n",
      "\n",
      "\n",
      "==> WARNING: A newer version of conda exists. <==\n",
      "  current version: 23.7.4\n",
      "  latest version: 24.4.0\n",
      "\n",
      "Please update conda by running\n",
      "\n",
      "    $ conda update -n base -c defaults conda\n",
      "\n",
      "Or to minimize the number of packages updated during conda update use\n",
      "\n",
      "     conda install conda=24.4.0\n",
      "\n",
      "\n",
      "DEBUG:urllib3.connectionpool:Starting new HTTPS connection (1): repo.anaconda.com:443\n",
      "DEBUG:urllib3.connectionpool:Starting new HTTPS connection (1): repo.anaconda.com:443\n",
      "DEBUG:urllib3.connectionpool:https://repo.anaconda.com:443 \"GET /pkgs/main/win-64/ca-certificates-2024.3.11-haa95532_0.conda HTTP/1.1\" 200 131358\n",
      "DEBUG:urllib3.connectionpool:https://repo.anaconda.com:443 \"GET /pkgs/main/win-64/certifi-2024.2.2-py311haa95532_0.conda HTTP/1.1\" 200 165479\n"
     ]
    }
   ],
   "source": [
    "conda install numpy"
   ]
  },
  {
   "cell_type": "code",
   "execution_count": 3,
   "id": "69ed126a",
   "metadata": {},
   "outputs": [],
   "source": [
    "import numpy as np"
   ]
  },
  {
   "cell_type": "code",
   "execution_count": 5,
   "id": "21d82aa9",
   "metadata": {},
   "outputs": [],
   "source": [
    "re=[1,2,3,4,5,6]\n",
    "a=np.array(re)"
   ]
  },
  {
   "cell_type": "code",
   "execution_count": 6,
   "id": "60682a3b",
   "metadata": {},
   "outputs": [
    {
     "data": {
      "text/plain": [
       "numpy.ndarray"
      ]
     },
     "execution_count": 6,
     "metadata": {},
     "output_type": "execute_result"
    }
   ],
   "source": [
    "type(a)"
   ]
  },
  {
   "cell_type": "code",
   "execution_count": 7,
   "id": "95cec0f5",
   "metadata": {},
   "outputs": [
    {
     "name": "stdout",
     "output_type": "stream",
     "text": [
      "[1 2 3 4 5 6]\n"
     ]
    }
   ],
   "source": [
    "print(a)"
   ]
  },
  {
   "cell_type": "code",
   "execution_count": 8,
   "id": "1420fcab",
   "metadata": {},
   "outputs": [
    {
     "data": {
      "text/plain": [
       "(6,)"
      ]
     },
     "execution_count": 8,
     "metadata": {},
     "output_type": "execute_result"
    }
   ],
   "source": [
    "a.shape"
   ]
  },
  {
   "cell_type": "code",
   "execution_count": 9,
   "id": "5a993612",
   "metadata": {},
   "outputs": [],
   "source": [
    "# multidimensional array\n",
    "re1=[1,2,3,4,5]\n",
    "re2=[2,3,4,5,6]\n",
    "re3=[3,4,5,6,7]\n",
    "\n",
    "a=np.array([re1,re2,re3])"
   ]
  },
  {
   "cell_type": "code",
   "execution_count": 10,
   "id": "884bfee4",
   "metadata": {},
   "outputs": [
    {
     "data": {
      "text/plain": [
       "array([[1, 2, 3, 4, 5],\n",
       "       [2, 3, 4, 5, 6],\n",
       "       [3, 4, 5, 6, 7]])"
      ]
     },
     "execution_count": 10,
     "metadata": {},
     "output_type": "execute_result"
    }
   ],
   "source": [
    "a"
   ]
  },
  {
   "cell_type": "code",
   "execution_count": 11,
   "id": "2e3308f6",
   "metadata": {},
   "outputs": [
    {
     "data": {
      "text/plain": [
       "(3, 5)"
      ]
     },
     "execution_count": 11,
     "metadata": {},
     "output_type": "execute_result"
    }
   ],
   "source": [
    "a.shape"
   ]
  },
  {
   "cell_type": "code",
   "execution_count": 12,
   "id": "42166eb3",
   "metadata": {},
   "outputs": [
    {
     "data": {
      "text/plain": [
       "array([[1, 2, 3],\n",
       "       [4, 5, 2],\n",
       "       [3, 4, 5],\n",
       "       [6, 3, 4],\n",
       "       [5, 6, 7]])"
      ]
     },
     "execution_count": 12,
     "metadata": {},
     "output_type": "execute_result"
    }
   ],
   "source": [
    "a.reshape(5,3)"
   ]
  },
  {
   "cell_type": "code",
   "execution_count": 13,
   "id": "fb99a0b3",
   "metadata": {},
   "outputs": [
    {
     "data": {
      "text/plain": [
       "(3, 5)"
      ]
     },
     "execution_count": 13,
     "metadata": {},
     "output_type": "execute_result"
    }
   ],
   "source": [
    "# check the shape of array\n",
    "a.shape"
   ]
  },
  {
   "cell_type": "markdown",
   "id": "22bb3a20",
   "metadata": {},
   "source": [
    "## Indexing"
   ]
  },
  {
   "cell_type": "code",
   "execution_count": 27,
   "id": "bca17151",
   "metadata": {},
   "outputs": [],
   "source": [
    "# Accessing the array elements \n",
    "ar1=[1,2,3,4,5,6]\n",
    "ar2=[3,4,5,6,7,8]\n",
    "ar3=[6,7,8,9,10,11]\n",
    "ar=np.array([ar1,ar2,ar3])"
   ]
  },
  {
   "cell_type": "code",
   "execution_count": 29,
   "id": "5908e25f",
   "metadata": {},
   "outputs": [
    {
     "data": {
      "text/plain": [
       "array([[ 1,  2,  3,  4,  5,  6],\n",
       "       [ 3,  4,  5,  6,  7,  8],\n",
       "       [ 6,  7,  8,  9, 10, 11]])"
      ]
     },
     "execution_count": 29,
     "metadata": {},
     "output_type": "execute_result"
    }
   ],
   "source": [
    "ar"
   ]
  },
  {
   "cell_type": "code",
   "execution_count": 30,
   "id": "f4bceaf9",
   "metadata": {},
   "outputs": [
    {
     "data": {
      "text/plain": [
       "array([[ 1,  2,  3,  4,  5,  6],\n",
       "       [ 3,  4,  5,  6,  7,  8],\n",
       "       [ 6,  7,  8,  9, 10, 11]])"
      ]
     },
     "execution_count": 30,
     "metadata": {},
     "output_type": "execute_result"
    }
   ],
   "source": [
    "ar[:,:]"
   ]
  },
  {
   "cell_type": "code",
   "execution_count": 31,
   "id": "5a912f2e",
   "metadata": {},
   "outputs": [
    {
     "data": {
      "text/plain": [
       "6"
      ]
     },
     "execution_count": 31,
     "metadata": {},
     "output_type": "execute_result"
    }
   ],
   "source": [
    "ar[1,3]"
   ]
  },
  {
   "cell_type": "code",
   "execution_count": 33,
   "id": "8aefc2b9",
   "metadata": {},
   "outputs": [
    {
     "data": {
      "text/plain": [
       "array([[ 1,  2,  3,  4,  5,  6],\n",
       "       [ 3,  4,  5,  6,  7,  8],\n",
       "       [ 6,  7,  8,  9, 10, 11]])"
      ]
     },
     "execution_count": 33,
     "metadata": {},
     "output_type": "execute_result"
    }
   ],
   "source": [
    "ar[:,:]"
   ]
  },
  {
   "cell_type": "code",
   "execution_count": 35,
   "id": "b3c92127",
   "metadata": {},
   "outputs": [
    {
     "data": {
      "text/plain": [
       "array([[3, 4, 5, 6],\n",
       "       [5, 6, 7, 8]])"
      ]
     },
     "execution_count": 35,
     "metadata": {},
     "output_type": "execute_result"
    }
   ],
   "source": [
    "ar[:2,2:]"
   ]
  },
  {
   "cell_type": "code",
   "execution_count": 36,
   "id": "2fa50037",
   "metadata": {},
   "outputs": [],
   "source": [
    "ar=np.arange(0,10)"
   ]
  },
  {
   "cell_type": "code",
   "execution_count": 37,
   "id": "c1e32432",
   "metadata": {},
   "outputs": [
    {
     "data": {
      "text/plain": [
       "array([0, 1, 2, 3, 4, 5, 6, 7, 8, 9])"
      ]
     },
     "execution_count": 37,
     "metadata": {},
     "output_type": "execute_result"
    }
   ],
   "source": [
    "ar"
   ]
  },
  {
   "cell_type": "code",
   "execution_count": 38,
   "id": "14eca05a",
   "metadata": {},
   "outputs": [],
   "source": [
    "ar[3:]=100"
   ]
  },
  {
   "cell_type": "code",
   "execution_count": 39,
   "id": "e0fc705a",
   "metadata": {},
   "outputs": [
    {
     "data": {
      "text/plain": [
       "array([  0,   1,   2, 100, 100, 100, 100, 100, 100, 100])"
      ]
     },
     "execution_count": 39,
     "metadata": {},
     "output_type": "execute_result"
    }
   ],
   "source": [
    "ar"
   ]
  },
  {
   "cell_type": "code",
   "execution_count": 40,
   "id": "cafaafc0",
   "metadata": {},
   "outputs": [],
   "source": [
    "ar[3:5]=100"
   ]
  },
  {
   "cell_type": "code",
   "execution_count": 42,
   "id": "a11d2c04",
   "metadata": {},
   "outputs": [
    {
     "data": {
      "text/plain": [
       "array([  0,   1,   2, 100, 100, 100, 100, 100, 100, 100])"
      ]
     },
     "execution_count": 42,
     "metadata": {},
     "output_type": "execute_result"
    }
   ],
   "source": [
    "ar"
   ]
  },
  {
   "cell_type": "code",
   "execution_count": 43,
   "id": "314cf8cf",
   "metadata": {},
   "outputs": [
    {
     "data": {
      "text/plain": [
       "array([ 1.        ,  1.18367347,  1.36734694,  1.55102041,  1.73469388,\n",
       "        1.91836735,  2.10204082,  2.28571429,  2.46938776,  2.65306122,\n",
       "        2.83673469,  3.02040816,  3.20408163,  3.3877551 ,  3.57142857,\n",
       "        3.75510204,  3.93877551,  4.12244898,  4.30612245,  4.48979592,\n",
       "        4.67346939,  4.85714286,  5.04081633,  5.2244898 ,  5.40816327,\n",
       "        5.59183673,  5.7755102 ,  5.95918367,  6.14285714,  6.32653061,\n",
       "        6.51020408,  6.69387755,  6.87755102,  7.06122449,  7.24489796,\n",
       "        7.42857143,  7.6122449 ,  7.79591837,  7.97959184,  8.16326531,\n",
       "        8.34693878,  8.53061224,  8.71428571,  8.89795918,  9.08163265,\n",
       "        9.26530612,  9.44897959,  9.63265306,  9.81632653, 10.        ])"
      ]
     },
     "execution_count": 43,
     "metadata": {},
     "output_type": "execute_result"
    }
   ],
   "source": [
    "np.linspace(1,10,50)"
   ]
  },
  {
   "cell_type": "code",
   "execution_count": 45,
   "id": "2da1b035",
   "metadata": {},
   "outputs": [
    {
     "data": {
      "text/plain": [
       "array([  0,   1,   2, 100, 100, 100, 100, 100, 100, 100])"
      ]
     },
     "execution_count": 45,
     "metadata": {},
     "output_type": "execute_result"
    }
   ],
   "source": [
    "# copy function\n",
    "# broadcasting\n",
    "\n",
    "ar[3:]=100\n",
    "ar\n"
   ]
  },
  {
   "cell_type": "code",
   "execution_count": 46,
   "id": "a5376479",
   "metadata": {},
   "outputs": [],
   "source": [
    "arr=ar"
   ]
  },
  {
   "cell_type": "code",
   "execution_count": 47,
   "id": "8dd5356c",
   "metadata": {},
   "outputs": [
    {
     "data": {
      "text/plain": [
       "array([  0,   1,   2, 100, 100, 100, 100, 100, 100, 100])"
      ]
     },
     "execution_count": 47,
     "metadata": {},
     "output_type": "execute_result"
    }
   ],
   "source": [
    "arr"
   ]
  },
  {
   "cell_type": "code",
   "execution_count": 48,
   "id": "7a4d5a5e",
   "metadata": {},
   "outputs": [],
   "source": [
    "arr[3:]=500"
   ]
  },
  {
   "cell_type": "code",
   "execution_count": 49,
   "id": "a7084a5c",
   "metadata": {},
   "outputs": [
    {
     "data": {
      "text/plain": [
       "array([  0,   1,   2, 500, 500, 500, 500, 500, 500, 500])"
      ]
     },
     "execution_count": 49,
     "metadata": {},
     "output_type": "execute_result"
    }
   ],
   "source": [
    "arr"
   ]
  },
  {
   "cell_type": "code",
   "execution_count": 50,
   "id": "bac8dbc3",
   "metadata": {},
   "outputs": [
    {
     "data": {
      "text/plain": [
       "array([  0,   1,   2, 500, 500, 500, 500, 500, 500, 500])"
      ]
     },
     "execution_count": 50,
     "metadata": {},
     "output_type": "execute_result"
    }
   ],
   "source": [
    "ar"
   ]
  },
  {
   "cell_type": "code",
   "execution_count": null,
   "id": "6620dfec",
   "metadata": {},
   "outputs": [],
   "source": [
    "# we see that --we witness a reference type--as they share same memory \n",
    "# due to change in one variable other variable changes."
   ]
  },
  {
   "cell_type": "code",
   "execution_count": 52,
   "id": "1b2c8cfc",
   "metadata": {},
   "outputs": [
    {
     "data": {
      "text/plain": [
       "array([0, 1])"
      ]
     },
     "execution_count": 52,
     "metadata": {},
     "output_type": "execute_result"
    }
   ],
   "source": [
    "# condition useful in exploratory Data Analysis\n",
    "\n",
    "val=2\n",
    "arr[arr<val]\n"
   ]
  },
  {
   "cell_type": "code",
   "execution_count": 53,
   "id": "b1d53ad5",
   "metadata": {},
   "outputs": [
    {
     "data": {
      "text/plain": [
       "array([[0, 1],\n",
       "       [2, 3],\n",
       "       [4, 5],\n",
       "       [6, 7],\n",
       "       [8, 9]])"
      ]
     },
     "execution_count": 53,
     "metadata": {},
     "output_type": "execute_result"
    }
   ],
   "source": [
    "# create arrays and reshape \n",
    "np.arange(0,10).reshape(5,2)"
   ]
  },
  {
   "cell_type": "code",
   "execution_count": 54,
   "id": "ed9d5216",
   "metadata": {},
   "outputs": [
    {
     "data": {
      "text/plain": [
       "array([[1, 1, 1, 1, 1],\n",
       "       [1, 1, 1, 1, 1]])"
      ]
     },
     "execution_count": 54,
     "metadata": {},
     "output_type": "execute_result"
    }
   ],
   "source": [
    "#creates an array replacing everything with one\n",
    "np.ones((2,5),dtype=int)"
   ]
  },
  {
   "cell_type": "code",
   "execution_count": 56,
   "id": "13081a3c",
   "metadata": {},
   "outputs": [
    {
     "data": {
      "text/plain": [
       "array([[0.98143007, 0.7331248 , 0.33766972],\n",
       "       [0.55238529, 0.83101591, 0.06477071],\n",
       "       [0.61510068, 0.36991975, 0.85176445]])"
      ]
     },
     "execution_count": 56,
     "metadata": {},
     "output_type": "execute_result"
    }
   ],
   "source": [
    "# random distribution\n",
    "\n",
    "np.random.rand(3,3)"
   ]
  },
  {
   "cell_type": "code",
   "execution_count": 57,
   "id": "1c0d6061",
   "metadata": {},
   "outputs": [],
   "source": [
    "arr_exp=np.random.randn(4,4)"
   ]
  },
  {
   "cell_type": "code",
   "execution_count": 58,
   "id": "85365369",
   "metadata": {},
   "outputs": [
    {
     "data": {
      "text/plain": [
       "array([[-1.68081695, -0.54915586, -1.17711633,  1.11665607],\n",
       "       [ 0.71156049, -2.17427323, -0.96992514, -0.13407908],\n",
       "       [-0.826274  ,  0.05026534,  0.03959819,  0.25979506],\n",
       "       [ 1.18506846, -0.46745278,  0.51786116,  0.31082889]])"
      ]
     },
     "execution_count": 58,
     "metadata": {},
     "output_type": "execute_result"
    }
   ],
   "source": [
    "arr_exp"
   ]
  },
  {
   "cell_type": "markdown",
   "id": "af1a2fd0",
   "metadata": {},
   "source": [
    "## L-5 Pandas,Data Frame and Data Series\n",
    "\n",
    "- pandas is an open source , BSD-licensed library providing high performance, easy to use data structures and data analysis tools for the python programming language\n",
    "\n",
    "- what is Data Frames?\n",
    "- What is Data Series?\n",
    "- different operation in pandas"
   ]
  },
  {
   "cell_type": "code",
   "execution_count": 64,
   "id": "5ad6a372",
   "metadata": {},
   "outputs": [],
   "source": [
    "# first step is to import pandas\n",
    "import pandas as pd\n",
    "import numpy as np"
   ]
  },
  {
   "cell_type": "code",
   "execution_count": 67,
   "id": "2c6f859f",
   "metadata": {},
   "outputs": [],
   "source": [
    "# dataframe\n",
    "df=pd.DataFrame(np.arange(0,20).reshape(5,4),index=['row1','row2','row3','row4','row5'],columns=[\"col1\",\"col2\",\"col3\",\"col4\"])"
   ]
  },
  {
   "cell_type": "code",
   "execution_count": 69,
   "id": "837fc5da",
   "metadata": {},
   "outputs": [
    {
     "data": {
      "text/html": [
       "<div>\n",
       "<style scoped>\n",
       "    .dataframe tbody tr th:only-of-type {\n",
       "        vertical-align: middle;\n",
       "    }\n",
       "\n",
       "    .dataframe tbody tr th {\n",
       "        vertical-align: top;\n",
       "    }\n",
       "\n",
       "    .dataframe thead th {\n",
       "        text-align: right;\n",
       "    }\n",
       "</style>\n",
       "<table border=\"1\" class=\"dataframe\">\n",
       "  <thead>\n",
       "    <tr style=\"text-align: right;\">\n",
       "      <th></th>\n",
       "      <th>col1</th>\n",
       "      <th>col2</th>\n",
       "      <th>col3</th>\n",
       "      <th>col4</th>\n",
       "    </tr>\n",
       "  </thead>\n",
       "  <tbody>\n",
       "    <tr>\n",
       "      <th>row1</th>\n",
       "      <td>0</td>\n",
       "      <td>1</td>\n",
       "      <td>2</td>\n",
       "      <td>3</td>\n",
       "    </tr>\n",
       "    <tr>\n",
       "      <th>row2</th>\n",
       "      <td>4</td>\n",
       "      <td>5</td>\n",
       "      <td>6</td>\n",
       "      <td>7</td>\n",
       "    </tr>\n",
       "    <tr>\n",
       "      <th>row3</th>\n",
       "      <td>8</td>\n",
       "      <td>9</td>\n",
       "      <td>10</td>\n",
       "      <td>11</td>\n",
       "    </tr>\n",
       "    <tr>\n",
       "      <th>row4</th>\n",
       "      <td>12</td>\n",
       "      <td>13</td>\n",
       "      <td>14</td>\n",
       "      <td>15</td>\n",
       "    </tr>\n",
       "    <tr>\n",
       "      <th>row5</th>\n",
       "      <td>16</td>\n",
       "      <td>17</td>\n",
       "      <td>18</td>\n",
       "      <td>19</td>\n",
       "    </tr>\n",
       "  </tbody>\n",
       "</table>\n",
       "</div>"
      ],
      "text/plain": [
       "      col1  col2  col3  col4\n",
       "row1     0     1     2     3\n",
       "row2     4     5     6     7\n",
       "row3     8     9    10    11\n",
       "row4    12    13    14    15\n",
       "row5    16    17    18    19"
      ]
     },
     "execution_count": 69,
     "metadata": {},
     "output_type": "execute_result"
    }
   ],
   "source": [
    "df.head()"
   ]
  },
  {
   "cell_type": "code",
   "execution_count": 71,
   "id": "6cc81de1",
   "metadata": {},
   "outputs": [],
   "source": [
    "df.to_csv('panda1.csv')"
   ]
  },
  {
   "cell_type": "code",
   "execution_count": 72,
   "id": "9da92cb4",
   "metadata": {},
   "outputs": [
    {
     "data": {
      "text/plain": [
       "col1    16\n",
       "col2    17\n",
       "col3    18\n",
       "col4    19\n",
       "Name: row5, dtype: int32"
      ]
     },
     "execution_count": 72,
     "metadata": {},
     "output_type": "execute_result"
    }
   ],
   "source": [
    "# Accessing the elements \n",
    "\n",
    "df.loc['row5']"
   ]
  },
  {
   "cell_type": "code",
   "execution_count": 73,
   "id": "2558affd",
   "metadata": {},
   "outputs": [
    {
     "data": {
      "text/plain": [
       "pandas.core.series.Series"
      ]
     },
     "execution_count": 73,
     "metadata": {},
     "output_type": "execute_result"
    }
   ],
   "source": [
    "# check the type\n",
    "type(df.loc[\"row5\"])"
   ]
  },
  {
   "cell_type": "code",
   "execution_count": 74,
   "id": "2bd1c4f3",
   "metadata": {},
   "outputs": [
    {
     "data": {
      "text/plain": [
       "row1     1\n",
       "row2     5\n",
       "row3     9\n",
       "row4    13\n",
       "row5    17\n",
       "Name: col2, dtype: int32"
      ]
     },
     "execution_count": 74,
     "metadata": {},
     "output_type": "execute_result"
    }
   ],
   "source": [
    "#series can either be one row or one coloumn\n",
    "# take the elements from column2\n",
    "df.iloc[:,1]"
   ]
  },
  {
   "cell_type": "code",
   "execution_count": 76,
   "id": "bb6af7dd",
   "metadata": {},
   "outputs": [
    {
     "data": {
      "text/plain": [
       "col1    0\n",
       "col2    0\n",
       "col3    0\n",
       "col4    0\n",
       "dtype: int64"
      ]
     },
     "execution_count": 76,
     "metadata": {},
     "output_type": "execute_result"
    }
   ],
   "source": [
    "#checkin for null condition\n",
    "\n",
    "df.isnull().sum()"
   ]
  },
  {
   "cell_type": "code",
   "execution_count": 77,
   "id": "dd3783fe",
   "metadata": {},
   "outputs": [
    {
     "data": {
      "text/plain": [
       "0     1\n",
       "4     1\n",
       "8     1\n",
       "12    1\n",
       "16    1\n",
       "Name: col1, dtype: int64"
      ]
     },
     "execution_count": 77,
     "metadata": {},
     "output_type": "execute_result"
    }
   ],
   "source": [
    "#finding unique cateogry function\n",
    "\n",
    "df['col1'].value_counts()"
   ]
  },
  {
   "cell_type": "code",
   "execution_count": 78,
   "id": "bc39a086",
   "metadata": {},
   "outputs": [
    {
     "data": {
      "text/plain": [
       "array([ 0,  4,  8, 12, 16])"
      ]
     },
     "execution_count": 78,
     "metadata": {},
     "output_type": "execute_result"
    }
   ],
   "source": [
    "df['col1'].unique()"
   ]
  },
  {
   "cell_type": "markdown",
   "id": "9d44ce23",
   "metadata": {},
   "source": [
    "## Reading datasets, corelation"
   ]
  },
  {
   "cell_type": "code",
   "execution_count": 80,
   "id": "e8f1308d",
   "metadata": {},
   "outputs": [],
   "source": [
    "# reading data sets in different file types\n",
    "\n",
    "df=pd.read_csv('genshin_review.csv')"
   ]
  },
  {
   "cell_type": "code",
   "execution_count": 81,
   "id": "67890c87",
   "metadata": {},
   "outputs": [
    {
     "data": {
      "text/html": [
       "<div>\n",
       "<style scoped>\n",
       "    .dataframe tbody tr th:only-of-type {\n",
       "        vertical-align: middle;\n",
       "    }\n",
       "\n",
       "    .dataframe tbody tr th {\n",
       "        vertical-align: top;\n",
       "    }\n",
       "\n",
       "    .dataframe thead th {\n",
       "        text-align: right;\n",
       "    }\n",
       "</style>\n",
       "<table border=\"1\" class=\"dataframe\">\n",
       "  <thead>\n",
       "    <tr style=\"text-align: right;\">\n",
       "      <th></th>\n",
       "      <th>review</th>\n",
       "      <th>rating</th>\n",
       "    </tr>\n",
       "  </thead>\n",
       "  <tbody>\n",
       "    <tr>\n",
       "      <th>0</th>\n",
       "      <td>Absolute Masterpiece i hate the people who gav...</td>\n",
       "      <td>5</td>\n",
       "    </tr>\n",
       "    <tr>\n",
       "      <th>1</th>\n",
       "      <td>amazing but the fandom isn't amazing</td>\n",
       "      <td>5</td>\n",
       "    </tr>\n",
       "    <tr>\n",
       "      <th>2</th>\n",
       "      <td>Very nice</td>\n",
       "      <td>5</td>\n",
       "    </tr>\n",
       "    <tr>\n",
       "      <th>3</th>\n",
       "      <td>Give me gambling money (primo gems)</td>\n",
       "      <td>4</td>\n",
       "    </tr>\n",
       "    <tr>\n",
       "      <th>4</th>\n",
       "      <td>This is one my first Open World RPG games, and...</td>\n",
       "      <td>4</td>\n",
       "    </tr>\n",
       "  </tbody>\n",
       "</table>\n",
       "</div>"
      ],
      "text/plain": [
       "                                              review  rating\n",
       "0  Absolute Masterpiece i hate the people who gav...       5\n",
       "1               amazing but the fandom isn't amazing       5\n",
       "2                                          Very nice       5\n",
       "3                Give me gambling money (primo gems)       4\n",
       "4  This is one my first Open World RPG games, and...       4"
      ]
     },
     "execution_count": 81,
     "metadata": {},
     "output_type": "execute_result"
    }
   ],
   "source": [
    "df.head()"
   ]
  },
  {
   "cell_type": "code",
   "execution_count": 82,
   "id": "ffa35169",
   "metadata": {},
   "outputs": [
    {
     "data": {
      "text/plain": [
       "<bound method NDFrame.head of                                                 review  rating\n",
       "0    Absolute Masterpiece i hate the people who gav...       5\n",
       "1                 amazing but the fandom isn't amazing       5\n",
       "2                                            Very nice       5\n",
       "3                  Give me gambling money (primo gems)       4\n",
       "4    This is one my first Open World RPG games, and...       4\n",
       "..                                                 ...     ...\n",
       "990                                               Yeah       4\n",
       "991                                      Getting bored       3\n",
       "992                                    This game sucks       1\n",
       "993  \"If Adventuring in Teyvat was a dream, Genshin...       5\n",
       "994  I love this game it's so slay 🥰😍💅✨🤩🤑🤭🔥🤯😇😃😘😜☺️❤️💖👍       5\n",
       "\n",
       "[995 rows x 2 columns]>"
      ]
     },
     "execution_count": 82,
     "metadata": {},
     "output_type": "execute_result"
    }
   ],
   "source": [
    "df.head"
   ]
  },
  {
   "cell_type": "code",
   "execution_count": 83,
   "id": "cf39ce03",
   "metadata": {},
   "outputs": [
    {
     "name": "stdout",
     "output_type": "stream",
     "text": [
      "<class 'pandas.core.frame.DataFrame'>\n",
      "RangeIndex: 995 entries, 0 to 994\n",
      "Data columns (total 2 columns):\n",
      " #   Column  Non-Null Count  Dtype \n",
      "---  ------  --------------  ----- \n",
      " 0   review  995 non-null    object\n",
      " 1   rating  995 non-null    int64 \n",
      "dtypes: int64(1), object(1)\n",
      "memory usage: 15.7+ KB\n"
     ]
    }
   ],
   "source": [
    "# values and datatypes etc.\n",
    "df.info()\n"
   ]
  },
  {
   "cell_type": "code",
   "execution_count": 84,
   "id": "9f5f288d",
   "metadata": {},
   "outputs": [
    {
     "data": {
      "text/html": [
       "<div>\n",
       "<style scoped>\n",
       "    .dataframe tbody tr th:only-of-type {\n",
       "        vertical-align: middle;\n",
       "    }\n",
       "\n",
       "    .dataframe tbody tr th {\n",
       "        vertical-align: top;\n",
       "    }\n",
       "\n",
       "    .dataframe thead th {\n",
       "        text-align: right;\n",
       "    }\n",
       "</style>\n",
       "<table border=\"1\" class=\"dataframe\">\n",
       "  <thead>\n",
       "    <tr style=\"text-align: right;\">\n",
       "      <th></th>\n",
       "      <th>rating</th>\n",
       "    </tr>\n",
       "  </thead>\n",
       "  <tbody>\n",
       "    <tr>\n",
       "      <th>count</th>\n",
       "      <td>995.000000</td>\n",
       "    </tr>\n",
       "    <tr>\n",
       "      <th>mean</th>\n",
       "      <td>3.703518</td>\n",
       "    </tr>\n",
       "    <tr>\n",
       "      <th>std</th>\n",
       "      <td>1.680022</td>\n",
       "    </tr>\n",
       "    <tr>\n",
       "      <th>min</th>\n",
       "      <td>1.000000</td>\n",
       "    </tr>\n",
       "    <tr>\n",
       "      <th>25%</th>\n",
       "      <td>2.000000</td>\n",
       "    </tr>\n",
       "    <tr>\n",
       "      <th>50%</th>\n",
       "      <td>5.000000</td>\n",
       "    </tr>\n",
       "    <tr>\n",
       "      <th>75%</th>\n",
       "      <td>5.000000</td>\n",
       "    </tr>\n",
       "    <tr>\n",
       "      <th>max</th>\n",
       "      <td>5.000000</td>\n",
       "    </tr>\n",
       "  </tbody>\n",
       "</table>\n",
       "</div>"
      ],
      "text/plain": [
       "           rating\n",
       "count  995.000000\n",
       "mean     3.703518\n",
       "std      1.680022\n",
       "min      1.000000\n",
       "25%      2.000000\n",
       "50%      5.000000\n",
       "75%      5.000000\n",
       "max      5.000000"
      ]
     },
     "execution_count": 84,
     "metadata": {},
     "output_type": "execute_result"
    }
   ],
   "source": [
    "# describes count mean std etc.\n",
    "df.describe()"
   ]
  },
  {
   "cell_type": "markdown",
   "id": "d4fc1b14",
   "metadata": {},
   "source": [
    "\n",
    "- one can read a csv file with ';' as seperator by defining it --('---',sep=';')"
   ]
  },
  {
   "cell_type": "code",
   "execution_count": 85,
   "id": "eaee6308",
   "metadata": {},
   "outputs": [
    {
     "name": "stderr",
     "output_type": "stream",
     "text": [
      "C:\\Users\\Planet\\AppData\\Local\\Temp\\ipykernel_13320\\1134722465.py:1: FutureWarning: The default value of numeric_only in DataFrame.corr is deprecated. In a future version, it will default to False. Select only valid columns or specify the value of numeric_only to silence this warning.\n",
      "  df.corr()\n"
     ]
    },
    {
     "data": {
      "text/html": [
       "<div>\n",
       "<style scoped>\n",
       "    .dataframe tbody tr th:only-of-type {\n",
       "        vertical-align: middle;\n",
       "    }\n",
       "\n",
       "    .dataframe tbody tr th {\n",
       "        vertical-align: top;\n",
       "    }\n",
       "\n",
       "    .dataframe thead th {\n",
       "        text-align: right;\n",
       "    }\n",
       "</style>\n",
       "<table border=\"1\" class=\"dataframe\">\n",
       "  <thead>\n",
       "    <tr style=\"text-align: right;\">\n",
       "      <th></th>\n",
       "      <th>rating</th>\n",
       "    </tr>\n",
       "  </thead>\n",
       "  <tbody>\n",
       "    <tr>\n",
       "      <th>rating</th>\n",
       "      <td>1.0</td>\n",
       "    </tr>\n",
       "  </tbody>\n",
       "</table>\n",
       "</div>"
      ],
      "text/plain": [
       "        rating\n",
       "rating     1.0"
      ]
     },
     "execution_count": 85,
     "metadata": {},
     "output_type": "execute_result"
    }
   ],
   "source": [
    "df.corr()"
   ]
  },
  {
   "cell_type": "code",
   "execution_count": 86,
   "id": "5a7fc441",
   "metadata": {},
   "outputs": [
    {
     "data": {
      "text/plain": [
       "Good                                                                                                                                                                                          15\n",
       "Good game                                                                                                                                                                                      5\n",
       "Cool                                                                                                                                                                                           5\n",
       "Love it                                                                                                                                                                                        5\n",
       "I love it                                                                                                                                                                                      5\n",
       "                                                                                                                                                                                              ..\n",
       "I love genshin impact but it keeps kicking me out and lagging and it freezes not letting me play and I deleted games to play it and it still doesn't work                                      1\n",
       "what happened to my genshin account it happened that i didn't play for almost 2 months and when i try to log in my account i need to start from the beginning from selecting my character.     1\n",
       "This is a kinda great fantasy game, for next please gimme some amazing rewards. Thank you :-)                                                                                                  1\n",
       "Lmao                                                                                                                                                                                           1\n",
       "I love this game it's so slay 🥰😍💅✨🤩🤑🤭🔥🤯😇😃😘😜☺️❤️💖👍                                                                                                                                              1\n",
       "Name: review, Length: 944, dtype: int64"
      ]
     },
     "execution_count": 86,
     "metadata": {},
     "output_type": "execute_result"
    }
   ],
   "source": [
    "df['review'].value_counts()"
   ]
  },
  {
   "cell_type": "markdown",
   "id": "5738b70c",
   "metadata": {},
   "source": [
    "## CSV\n"
   ]
  },
  {
   "cell_type": "code",
   "execution_count": 88,
   "id": "faa1872c",
   "metadata": {},
   "outputs": [],
   "source": [
    "from io import StringIO,BytesIO"
   ]
  },
  {
   "cell_type": "code",
   "execution_count": 91,
   "id": "8d4a6845",
   "metadata": {},
   "outputs": [
    {
     "data": {
      "text/plain": [
       "str"
      ]
     },
     "execution_count": 91,
     "metadata": {},
     "output_type": "execute_result"
    }
   ],
   "source": [
    "\n",
    "data=('col1,col2,col3\\n'\n",
    "     'x,y,1\\n')\n",
    "type(data)"
   ]
  },
  {
   "cell_type": "code",
   "execution_count": 92,
   "id": "cb22f952",
   "metadata": {},
   "outputs": [
    {
     "data": {
      "text/html": [
       "<div>\n",
       "<style scoped>\n",
       "    .dataframe tbody tr th:only-of-type {\n",
       "        vertical-align: middle;\n",
       "    }\n",
       "\n",
       "    .dataframe tbody tr th {\n",
       "        vertical-align: top;\n",
       "    }\n",
       "\n",
       "    .dataframe thead th {\n",
       "        text-align: right;\n",
       "    }\n",
       "</style>\n",
       "<table border=\"1\" class=\"dataframe\">\n",
       "  <thead>\n",
       "    <tr style=\"text-align: right;\">\n",
       "      <th></th>\n",
       "      <th>col1</th>\n",
       "      <th>col2</th>\n",
       "      <th>col3</th>\n",
       "    </tr>\n",
       "  </thead>\n",
       "  <tbody>\n",
       "    <tr>\n",
       "      <th>0</th>\n",
       "      <td>x</td>\n",
       "      <td>y</td>\n",
       "      <td>1</td>\n",
       "    </tr>\n",
       "  </tbody>\n",
       "</table>\n",
       "</div>"
      ],
      "text/plain": [
       "  col1 col2  col3\n",
       "0    x    y     1"
      ]
     },
     "execution_count": 92,
     "metadata": {},
     "output_type": "execute_result"
    }
   ],
   "source": [
    "pd.read_csv(StringIO(data))"
   ]
  },
  {
   "cell_type": "code",
   "execution_count": 95,
   "id": "242e3381",
   "metadata": {},
   "outputs": [],
   "source": [
    "# read specific columns \n",
    "df=pd.read_csv(StringIO(data), usecols=['col1','col3'])"
   ]
  },
  {
   "cell_type": "code",
   "execution_count": 96,
   "id": "822881c8",
   "metadata": {},
   "outputs": [
    {
     "data": {
      "text/html": [
       "<div>\n",
       "<style scoped>\n",
       "    .dataframe tbody tr th:only-of-type {\n",
       "        vertical-align: middle;\n",
       "    }\n",
       "\n",
       "    .dataframe tbody tr th {\n",
       "        vertical-align: top;\n",
       "    }\n",
       "\n",
       "    .dataframe thead th {\n",
       "        text-align: right;\n",
       "    }\n",
       "</style>\n",
       "<table border=\"1\" class=\"dataframe\">\n",
       "  <thead>\n",
       "    <tr style=\"text-align: right;\">\n",
       "      <th></th>\n",
       "      <th>col1</th>\n",
       "      <th>col3</th>\n",
       "    </tr>\n",
       "  </thead>\n",
       "  <tbody>\n",
       "    <tr>\n",
       "      <th>0</th>\n",
       "      <td>x</td>\n",
       "      <td>1</td>\n",
       "    </tr>\n",
       "  </tbody>\n",
       "</table>\n",
       "</div>"
      ],
      "text/plain": [
       "  col1  col3\n",
       "0    x     1"
      ]
     },
     "execution_count": 96,
     "metadata": {},
     "output_type": "execute_result"
    }
   ],
   "source": [
    "df"
   ]
  },
  {
   "cell_type": "code",
   "execution_count": 97,
   "id": "fe92592e",
   "metadata": {},
   "outputs": [],
   "source": [
    "# to save the changes we use--"
   ]
  },
  {
   "cell_type": "code",
   "execution_count": 98,
   "id": "60d45322",
   "metadata": {},
   "outputs": [],
   "source": [
    "df.to_csv('test.csv')"
   ]
  },
  {
   "cell_type": "code",
   "execution_count": 99,
   "id": "955d71c9",
   "metadata": {},
   "outputs": [],
   "source": [
    "# specifying col. data types\n",
    "data = ('a,b,c,d\\n'\n",
    "           '1,2,3,4,5\\n')"
   ]
  },
  {
   "cell_type": "code",
   "execution_count": 100,
   "id": "ccb90109",
   "metadata": {},
   "outputs": [
    {
     "name": "stdout",
     "output_type": "stream",
     "text": [
      "a,b,c,d\n",
      "1,2,3,4,5\n",
      "\n"
     ]
    }
   ],
   "source": [
    "print(data)"
   ]
  },
  {
   "cell_type": "code",
   "execution_count": 101,
   "id": "6f0b6845",
   "metadata": {},
   "outputs": [],
   "source": [
    "df=pd.read_csv(StringIO(data),dtype=object)"
   ]
  },
  {
   "cell_type": "code",
   "execution_count": 102,
   "id": "8e0d1cf4",
   "metadata": {},
   "outputs": [
    {
     "data": {
      "text/html": [
       "<div>\n",
       "<style scoped>\n",
       "    .dataframe tbody tr th:only-of-type {\n",
       "        vertical-align: middle;\n",
       "    }\n",
       "\n",
       "    .dataframe tbody tr th {\n",
       "        vertical-align: top;\n",
       "    }\n",
       "\n",
       "    .dataframe thead th {\n",
       "        text-align: right;\n",
       "    }\n",
       "</style>\n",
       "<table border=\"1\" class=\"dataframe\">\n",
       "  <thead>\n",
       "    <tr style=\"text-align: right;\">\n",
       "      <th></th>\n",
       "      <th>a</th>\n",
       "      <th>b</th>\n",
       "      <th>c</th>\n",
       "      <th>d</th>\n",
       "    </tr>\n",
       "  </thead>\n",
       "  <tbody>\n",
       "    <tr>\n",
       "      <th>1</th>\n",
       "      <td>2</td>\n",
       "      <td>3</td>\n",
       "      <td>4</td>\n",
       "      <td>5</td>\n",
       "    </tr>\n",
       "  </tbody>\n",
       "</table>\n",
       "</div>"
      ],
      "text/plain": [
       "   a  b  c  d\n",
       "1  2  3  4  5"
      ]
     },
     "execution_count": 102,
     "metadata": {},
     "output_type": "execute_result"
    }
   ],
   "source": [
    "df"
   ]
  },
  {
   "cell_type": "code",
   "execution_count": 105,
   "id": "7ca222d1",
   "metadata": {},
   "outputs": [],
   "source": [
    "df=pd.read_csv(StringIO(data),dtype={'b':int,'c':float,'a':'Int64'})"
   ]
  },
  {
   "cell_type": "code",
   "execution_count": 106,
   "id": "110d6fc9",
   "metadata": {},
   "outputs": [
    {
     "data": {
      "text/html": [
       "<div>\n",
       "<style scoped>\n",
       "    .dataframe tbody tr th:only-of-type {\n",
       "        vertical-align: middle;\n",
       "    }\n",
       "\n",
       "    .dataframe tbody tr th {\n",
       "        vertical-align: top;\n",
       "    }\n",
       "\n",
       "    .dataframe thead th {\n",
       "        text-align: right;\n",
       "    }\n",
       "</style>\n",
       "<table border=\"1\" class=\"dataframe\">\n",
       "  <thead>\n",
       "    <tr style=\"text-align: right;\">\n",
       "      <th></th>\n",
       "      <th>a</th>\n",
       "      <th>b</th>\n",
       "      <th>c</th>\n",
       "      <th>d</th>\n",
       "    </tr>\n",
       "  </thead>\n",
       "  <tbody>\n",
       "    <tr>\n",
       "      <th>1</th>\n",
       "      <td>2</td>\n",
       "      <td>3</td>\n",
       "      <td>4.0</td>\n",
       "      <td>5</td>\n",
       "    </tr>\n",
       "  </tbody>\n",
       "</table>\n",
       "</div>"
      ],
      "text/plain": [
       "   a  b    c  d\n",
       "1  2  3  4.0  5"
      ]
     },
     "execution_count": 106,
     "metadata": {},
     "output_type": "execute_result"
    }
   ],
   "source": [
    "df"
   ]
  },
  {
   "cell_type": "code",
   "execution_count": 107,
   "id": "60585827",
   "metadata": {},
   "outputs": [],
   "source": [
    "# index col and training delimiters\n",
    "\n",
    "data=('index,a,b,c\\n'\n",
    "             '4,apple,bat,5.7\\n'\n",
    "                 '8,orange,cow,10')"
   ]
  },
  {
   "cell_type": "code",
   "execution_count": 108,
   "id": "af9471ea",
   "metadata": {},
   "outputs": [
    {
     "data": {
      "text/html": [
       "<div>\n",
       "<style scoped>\n",
       "    .dataframe tbody tr th:only-of-type {\n",
       "        vertical-align: middle;\n",
       "    }\n",
       "\n",
       "    .dataframe tbody tr th {\n",
       "        vertical-align: top;\n",
       "    }\n",
       "\n",
       "    .dataframe thead th {\n",
       "        text-align: right;\n",
       "    }\n",
       "</style>\n",
       "<table border=\"1\" class=\"dataframe\">\n",
       "  <thead>\n",
       "    <tr style=\"text-align: right;\">\n",
       "      <th></th>\n",
       "      <th>a</th>\n",
       "      <th>b</th>\n",
       "      <th>c</th>\n",
       "    </tr>\n",
       "    <tr>\n",
       "      <th>index</th>\n",
       "      <th></th>\n",
       "      <th></th>\n",
       "      <th></th>\n",
       "    </tr>\n",
       "  </thead>\n",
       "  <tbody>\n",
       "    <tr>\n",
       "      <th>4</th>\n",
       "      <td>apple</td>\n",
       "      <td>bat</td>\n",
       "      <td>5.7</td>\n",
       "    </tr>\n",
       "    <tr>\n",
       "      <th>8</th>\n",
       "      <td>orange</td>\n",
       "      <td>cow</td>\n",
       "      <td>10.0</td>\n",
       "    </tr>\n",
       "  </tbody>\n",
       "</table>\n",
       "</div>"
      ],
      "text/plain": [
       "            a    b     c\n",
       "index                   \n",
       "4       apple  bat   5.7\n",
       "8      orange  cow  10.0"
      ]
     },
     "execution_count": 108,
     "metadata": {},
     "output_type": "execute_result"
    }
   ],
   "source": [
    "pd.read_csv(StringIO(data),index_col=0)"
   ]
  },
  {
   "cell_type": "markdown",
   "id": "e163230b",
   "metadata": {},
   "source": [
    "# Read Json to CSV"
   ]
  },
  {
   "cell_type": "code",
   "execution_count": 2,
   "id": "93322871",
   "metadata": {},
   "outputs": [],
   "source": [
    "import pandas as pd"
   ]
  },
  {
   "cell_type": "code",
   "execution_count": 12,
   "id": "4dce6d28",
   "metadata": {},
   "outputs": [],
   "source": [
    "data= '{\"Employee_name\":\"james\",\"email\":\"james@gmail.com\",\"Job_profile\": [{\"title\":\"Team lead\",\"title2\":\"sr. devloper\"}]}'\n",
    "df1=pd.read_json(data)"
   ]
  },
  {
   "cell_type": "code",
   "execution_count": 13,
   "id": "533f3bad",
   "metadata": {},
   "outputs": [],
   "source": [
    "# convert Json to csv\n",
    "df=pd.read_csv('genshin_review.csv',header=None)\n",
    "df.to_csv('genshin_review.csv')"
   ]
  },
  {
   "cell_type": "code",
   "execution_count": 14,
   "id": "85f54c12",
   "metadata": {},
   "outputs": [
    {
     "data": {
      "text/html": [
       "<div>\n",
       "<style scoped>\n",
       "    .dataframe tbody tr th:only-of-type {\n",
       "        vertical-align: middle;\n",
       "    }\n",
       "\n",
       "    .dataframe tbody tr th {\n",
       "        vertical-align: top;\n",
       "    }\n",
       "\n",
       "    .dataframe thead th {\n",
       "        text-align: right;\n",
       "    }\n",
       "</style>\n",
       "<table border=\"1\" class=\"dataframe\">\n",
       "  <thead>\n",
       "    <tr style=\"text-align: right;\">\n",
       "      <th></th>\n",
       "      <th>0</th>\n",
       "      <th>1</th>\n",
       "      <th>2</th>\n",
       "    </tr>\n",
       "  </thead>\n",
       "  <tbody>\n",
       "    <tr>\n",
       "      <th>0</th>\n",
       "      <td>NaN</td>\n",
       "      <td>0</td>\n",
       "      <td>1</td>\n",
       "    </tr>\n",
       "    <tr>\n",
       "      <th>1</th>\n",
       "      <td>0.0</td>\n",
       "      <td>review</td>\n",
       "      <td>rating</td>\n",
       "    </tr>\n",
       "    <tr>\n",
       "      <th>2</th>\n",
       "      <td>1.0</td>\n",
       "      <td>Absolute Masterpiece i hate the people who gav...</td>\n",
       "      <td>5</td>\n",
       "    </tr>\n",
       "    <tr>\n",
       "      <th>3</th>\n",
       "      <td>2.0</td>\n",
       "      <td>amazing but the fandom isn't amazing</td>\n",
       "      <td>5</td>\n",
       "    </tr>\n",
       "    <tr>\n",
       "      <th>4</th>\n",
       "      <td>3.0</td>\n",
       "      <td>Very nice</td>\n",
       "      <td>5</td>\n",
       "    </tr>\n",
       "  </tbody>\n",
       "</table>\n",
       "</div>"
      ],
      "text/plain": [
       "     0                                                  1       2\n",
       "0  NaN                                                  0       1\n",
       "1  0.0                                             review  rating\n",
       "2  1.0  Absolute Masterpiece i hate the people who gav...       5\n",
       "3  2.0               amazing but the fandom isn't amazing       5\n",
       "4  3.0                                          Very nice       5"
      ]
     },
     "execution_count": 14,
     "metadata": {},
     "output_type": "execute_result"
    }
   ],
   "source": [
    "df.head()"
   ]
  },
  {
   "cell_type": "code",
   "execution_count": 15,
   "id": "8daa7a46",
   "metadata": {},
   "outputs": [
    {
     "data": {
      "text/plain": [
       "'{\"Employee_name\":{\"0\":\"james\"},\"email\":{\"0\":\"james@gmail.com\"},\"Job_profile\":{\"0\":{\"title\":\"Team lead\",\"title2\":\"sr. devloper\"}}}'"
      ]
     },
     "execution_count": 15,
     "metadata": {},
     "output_type": "execute_result"
    }
   ],
   "source": [
    "# convert json to different format\n",
    "df1.to_json()"
   ]
  },
  {
   "cell_type": "code",
   "execution_count": 17,
   "id": "9ff77705",
   "metadata": {},
   "outputs": [
    {
     "data": {
      "text/plain": [
       "'[{\"Employee_name\":\"james\",\"email\":\"james@gmail.com\",\"Job_profile\":{\"title\":\"Team lead\",\"title2\":\"sr. devloper\"}}]'"
      ]
     },
     "execution_count": 17,
     "metadata": {},
     "output_type": "execute_result"
    }
   ],
   "source": [
    "#json should always be created by respect to records\n",
    "df1.to_json(orient=\"records\")"
   ]
  },
  {
   "cell_type": "code",
   "execution_count": 1,
   "id": "82aaa9e4",
   "metadata": {},
   "outputs": [],
   "source": [
    "import pandas as pd"
   ]
  },
  {
   "cell_type": "markdown",
   "id": "34a1e9cf",
   "metadata": {},
   "source": [
    "## Reading HTML content"
   ]
  },
  {
   "cell_type": "code",
   "execution_count": 8,
   "id": "166bf021",
   "metadata": {},
   "outputs": [],
   "source": [
    "url=\"https://www.fdic.gov/resources/resolutions/bank-failures/failed-bank-list/index.html\"\n",
    "dfs = pd.read_html(url)\n"
   ]
  },
  {
   "cell_type": "code",
   "execution_count": 13,
   "id": "e123fbb1",
   "metadata": {},
   "outputs": [
    {
     "data": {
      "text/html": [
       "<div>\n",
       "<style scoped>\n",
       "    .dataframe tbody tr th:only-of-type {\n",
       "        vertical-align: middle;\n",
       "    }\n",
       "\n",
       "    .dataframe tbody tr th {\n",
       "        vertical-align: top;\n",
       "    }\n",
       "\n",
       "    .dataframe thead th {\n",
       "        text-align: right;\n",
       "    }\n",
       "</style>\n",
       "<table border=\"1\" class=\"dataframe\">\n",
       "  <thead>\n",
       "    <tr style=\"text-align: right;\">\n",
       "      <th></th>\n",
       "      <th>Bank NameBank</th>\n",
       "      <th>CityCity</th>\n",
       "      <th>StateSt</th>\n",
       "      <th>CertCert</th>\n",
       "      <th>Acquiring InstitutionAI</th>\n",
       "      <th>Closing DateClosing</th>\n",
       "      <th>FundFund</th>\n",
       "    </tr>\n",
       "  </thead>\n",
       "  <tbody>\n",
       "    <tr>\n",
       "      <th>0</th>\n",
       "      <td>Republic First Bank dba Republic Bank</td>\n",
       "      <td>Philadelphia</td>\n",
       "      <td>PA</td>\n",
       "      <td>27332</td>\n",
       "      <td>Fulton Bank, National Association</td>\n",
       "      <td>April 26, 2024</td>\n",
       "      <td>10546</td>\n",
       "    </tr>\n",
       "    <tr>\n",
       "      <th>1</th>\n",
       "      <td>Citizens Bank</td>\n",
       "      <td>Sac City</td>\n",
       "      <td>IA</td>\n",
       "      <td>8758</td>\n",
       "      <td>Iowa Trust &amp; Savings Bank</td>\n",
       "      <td>November 3, 2023</td>\n",
       "      <td>10545</td>\n",
       "    </tr>\n",
       "    <tr>\n",
       "      <th>2</th>\n",
       "      <td>Heartland Tri-State Bank</td>\n",
       "      <td>Elkhart</td>\n",
       "      <td>KS</td>\n",
       "      <td>25851</td>\n",
       "      <td>Dream First Bank, N.A.</td>\n",
       "      <td>July 28, 2023</td>\n",
       "      <td>10544</td>\n",
       "    </tr>\n",
       "    <tr>\n",
       "      <th>3</th>\n",
       "      <td>First Republic Bank</td>\n",
       "      <td>San Francisco</td>\n",
       "      <td>CA</td>\n",
       "      <td>59017</td>\n",
       "      <td>JPMorgan Chase Bank, N.A.</td>\n",
       "      <td>May 1, 2023</td>\n",
       "      <td>10543</td>\n",
       "    </tr>\n",
       "    <tr>\n",
       "      <th>4</th>\n",
       "      <td>Signature Bank</td>\n",
       "      <td>New York</td>\n",
       "      <td>NY</td>\n",
       "      <td>57053</td>\n",
       "      <td>Flagstar Bank, N.A.</td>\n",
       "      <td>March 12, 2023</td>\n",
       "      <td>10540</td>\n",
       "    </tr>\n",
       "    <tr>\n",
       "      <th>...</th>\n",
       "      <td>...</td>\n",
       "      <td>...</td>\n",
       "      <td>...</td>\n",
       "      <td>...</td>\n",
       "      <td>...</td>\n",
       "      <td>...</td>\n",
       "      <td>...</td>\n",
       "    </tr>\n",
       "    <tr>\n",
       "      <th>564</th>\n",
       "      <td>Superior Bank, FSB</td>\n",
       "      <td>Hinsdale</td>\n",
       "      <td>IL</td>\n",
       "      <td>32646</td>\n",
       "      <td>Superior Federal, FSB</td>\n",
       "      <td>July 27, 2001</td>\n",
       "      <td>6004</td>\n",
       "    </tr>\n",
       "    <tr>\n",
       "      <th>565</th>\n",
       "      <td>Malta National Bank</td>\n",
       "      <td>Malta</td>\n",
       "      <td>OH</td>\n",
       "      <td>6629</td>\n",
       "      <td>North Valley Bank</td>\n",
       "      <td>May 3, 2001</td>\n",
       "      <td>4648</td>\n",
       "    </tr>\n",
       "    <tr>\n",
       "      <th>566</th>\n",
       "      <td>First Alliance Bank &amp; Trust Co.</td>\n",
       "      <td>Manchester</td>\n",
       "      <td>NH</td>\n",
       "      <td>34264</td>\n",
       "      <td>Southern New Hampshire Bank &amp; Trust</td>\n",
       "      <td>February 2, 2001</td>\n",
       "      <td>4647</td>\n",
       "    </tr>\n",
       "    <tr>\n",
       "      <th>567</th>\n",
       "      <td>National State Bank of Metropolis</td>\n",
       "      <td>Metropolis</td>\n",
       "      <td>IL</td>\n",
       "      <td>3815</td>\n",
       "      <td>Banterra Bank of Marion</td>\n",
       "      <td>December 14, 2000</td>\n",
       "      <td>4646</td>\n",
       "    </tr>\n",
       "    <tr>\n",
       "      <th>568</th>\n",
       "      <td>Bank of Honolulu</td>\n",
       "      <td>Honolulu</td>\n",
       "      <td>HI</td>\n",
       "      <td>21029</td>\n",
       "      <td>Bank of the Orient</td>\n",
       "      <td>October 13, 2000</td>\n",
       "      <td>4645</td>\n",
       "    </tr>\n",
       "  </tbody>\n",
       "</table>\n",
       "<p>569 rows × 7 columns</p>\n",
       "</div>"
      ],
      "text/plain": [
       "                             Bank NameBank       CityCity StateSt  CertCert  \\\n",
       "0    Republic First Bank dba Republic Bank   Philadelphia      PA     27332   \n",
       "1                            Citizens Bank       Sac City      IA      8758   \n",
       "2                 Heartland Tri-State Bank        Elkhart      KS     25851   \n",
       "3                      First Republic Bank  San Francisco      CA     59017   \n",
       "4                           Signature Bank       New York      NY     57053   \n",
       "..                                     ...            ...     ...       ...   \n",
       "564                     Superior Bank, FSB       Hinsdale      IL     32646   \n",
       "565                    Malta National Bank          Malta      OH      6629   \n",
       "566        First Alliance Bank & Trust Co.     Manchester      NH     34264   \n",
       "567      National State Bank of Metropolis     Metropolis      IL      3815   \n",
       "568                       Bank of Honolulu       Honolulu      HI     21029   \n",
       "\n",
       "                 Acquiring InstitutionAI Closing DateClosing  FundFund  \n",
       "0      Fulton Bank, National Association      April 26, 2024     10546  \n",
       "1              Iowa Trust & Savings Bank    November 3, 2023     10545  \n",
       "2                 Dream First Bank, N.A.       July 28, 2023     10544  \n",
       "3              JPMorgan Chase Bank, N.A.         May 1, 2023     10543  \n",
       "4                    Flagstar Bank, N.A.      March 12, 2023     10540  \n",
       "..                                   ...                 ...       ...  \n",
       "564                Superior Federal, FSB       July 27, 2001      6004  \n",
       "565                    North Valley Bank         May 3, 2001      4648  \n",
       "566  Southern New Hampshire Bank & Trust    February 2, 2001      4647  \n",
       "567              Banterra Bank of Marion   December 14, 2000      4646  \n",
       "568                   Bank of the Orient    October 13, 2000      4645  \n",
       "\n",
       "[569 rows x 7 columns]"
      ]
     },
     "execution_count": 13,
     "metadata": {},
     "output_type": "execute_result"
    }
   ],
   "source": [
    "dfs[0]"
   ]
  },
  {
   "cell_type": "code",
   "execution_count": null,
   "id": "7454b032",
   "metadata": {},
   "outputs": [],
   "source": [
    "url_cc='https://leagueoflegends.fandom.com/wiki/League_of_Legends_Wiki:LoL_ability_data_guide'\n",
    "jht=pd.read_html(url_cc)"
   ]
  },
  {
   "cell_type": "markdown",
   "id": "6253452d",
   "metadata": {},
   "source": [
    "## Pickling\n",
    "\n",
    "- all pandas objects are equiped with to_pickle methods which use pythons cPickle module to save data structures to disk using the pickle format.|"
   ]
  },
  {
   "cell_type": "code",
   "execution_count": null,
   "id": "73c12b03",
   "metadata": {},
   "outputs": [],
   "source": [
    "# pickling is used to save DS to a disk using or loadin the DS.\n",
    "# syntax--'df_excel.to_pickle('df_excel')'\n",
    "# df=pd.read_pickle('df_excel')"
   ]
  },
  {
   "cell_type": "markdown",
   "id": "b85494f9",
   "metadata": {},
   "source": [
    "# L-8 Matplotlib(visualization library)\n",
    "\n",
    "- matplot lib is plotting library for the python programming language and its numerical mathematics extension NumPy.\n",
    "- it provides an OO API for embedding plots into applications using general-purpose GUI toolkits like TKinter,wxPython,Qt or GTK+\n",
    "\n",
    "-some of the major pros of matplotlib are:\n",
    "\n",
    "    - genrally easy to get started for simple plots\n",
    "    - suppourt for custom lables and texts\n",
    "    - great control of every element in a figure \n",
    "    - high-qulaity output in many formats\n",
    "    - very customizable in genral "
   ]
  },
  {
   "cell_type": "code",
   "execution_count": 24,
   "id": "4289c1f1",
   "metadata": {},
   "outputs": [],
   "source": [
    "import matplotlib.pyplot as plt\n",
    "%matplotlib inline\n",
    "# to avoid writing 'plot.show()' every time"
   ]
  },
  {
   "cell_type": "code",
   "execution_count": 25,
   "id": "3db416a1",
   "metadata": {},
   "outputs": [],
   "source": [
    "import numpy as np"
   ]
  },
  {
   "cell_type": "code",
   "execution_count": 26,
   "id": "3dd7e842",
   "metadata": {},
   "outputs": [],
   "source": [
    "# simple example\n",
    "\n",
    "x=np.arange(0,10)\n",
    "y=np.arange(11,21)"
   ]
  },
  {
   "cell_type": "code",
   "execution_count": 27,
   "id": "70a0ae9f",
   "metadata": {},
   "outputs": [
    {
     "data": {
      "text/plain": [
       "array([-39, -39, -39, -39, -39, -39, -39, -39, -39, -39])"
      ]
     },
     "execution_count": 27,
     "metadata": {},
     "output_type": "execute_result"
    }
   ],
   "source": [
    "x=np.arange(40,50)\n",
    "y-np.arange(50,60)"
   ]
  },
  {
   "cell_type": "code",
   "execution_count": 30,
   "id": "d3c29722",
   "metadata": {},
   "outputs": [
    {
     "data": {
      "image/png": "[encoded data removed]",
      "text/plain": [
       "<Figure size 640x480 with 1 Axes>"
      ]
     },
     "metadata": {},
     "output_type": "display_data"
    }
   ],
   "source": [
    "# plotting using matlpotlib\n",
    "\n",
    "# plt scatter\n",
    "\n",
    "plt.scatter(x,y,c='g')\n",
    "plt.xlabel('x axis')\n",
    "plt.ylabel('y axis')\n",
    "plt.title('graph in 2D')\n",
    "plt.savefig('F_G.png')"
   ]
  },
  {
   "cell_type": "code",
   "execution_count": 40,
   "id": "15d02af5",
   "metadata": {},
   "outputs": [
    {
     "data": {
      "text/plain": [
       "[<matplotlib.lines.Line2D at 0x1ddf29b4310>]"
      ]
     },
     "execution_count": 40,
     "metadata": {},
     "output_type": "execute_result"
    },
    {
     "data": {
      "image/png": "[encoded data removed]",
      "text/plain": [
       "<Figure size 640x480 with 1 Axes>"
      ]
     },
     "metadata": {},
     "output_type": "display_data"
    }
   ],
   "source": [
    "y=x*2-y*2\n",
    "# plt plot\n",
    "\n",
    "plt.plot(x,y,'ro--')"
   ]
  },
  {
   "cell_type": "code",
   "execution_count": 41,
   "id": "bae6d0ff",
   "metadata": {},
   "outputs": [
    {
     "data": {
      "text/plain": [
       "[<matplotlib.lines.Line2D at 0x1ddf1498e90>]"
      ]
     },
     "execution_count": 41,
     "metadata": {},
     "output_type": "execute_result"
    },
    {
     "data": {
      "image/png": "[encoded data removed]",
      "text/plain": [
       "<Figure size 640x480 with 3 Axes>"
      ]
     },
     "metadata": {},
     "output_type": "display_data"
    }
   ],
   "source": [
    "# subplots\n",
    "plt.subplot(2,2,1)\n",
    "plt.plot(x,y,'r')\n",
    "plt.subplot(2,2,2)\n",
    "plt.plot(x,y,'g')\n",
    "plt.subplot(2,2,3)\n",
    "plt.plot(x,y,'b')"
   ]
  },
  {
   "cell_type": "code",
   "execution_count": 42,
   "id": "37aceb9b",
   "metadata": {},
   "outputs": [
    {
     "data": {
      "text/plain": [
       "[<matplotlib.lines.Line2D at 0x1ddf283bdd0>]"
      ]
     },
     "execution_count": 42,
     "metadata": {},
     "output_type": "execute_result"
    },
    {
     "data": {
      "image/png": "[encoded data removed]",
      "text/plain": [
       "<Figure size 640x480 with 1 Axes>"
      ]
     },
     "metadata": {},
     "output_type": "display_data"
    }
   ],
   "source": [
    "# examples\n",
    "\n",
    "x = np.arange(1,11)\n",
    "y=3*x+5\n",
    "plt.title('matlplotlib graph')\n",
    "plt.xlabel('oii x')\n",
    "plt.ylabel('oii y')\n",
    "plt.plot(x,y)"
   ]
  },
  {
   "cell_type": "code",
   "execution_count": 43,
   "id": "ab9bc9c0",
   "metadata": {},
   "outputs": [
    {
     "data": {
      "text/plain": [
       "3.141592653589793"
      ]
     },
     "execution_count": 43,
     "metadata": {},
     "output_type": "execute_result"
    }
   ],
   "source": [
    "np.pi"
   ]
  },
  {
   "cell_type": "code",
   "execution_count": 45,
   "id": "c7bcb731",
   "metadata": {},
   "outputs": [
    {
     "data": {
      "text/plain": [
       "[<matplotlib.lines.Line2D at 0x1ddf2cbc910>]"
      ]
     },
     "execution_count": 45,
     "metadata": {},
     "output_type": "execute_result"
    },
    {
     "data": {
      "image/png": "[encoded data removed]",
      "text/plain": [
       "<Figure size 640x480 with 1 Axes>"
      ]
     },
     "metadata": {},
     "output_type": "display_data"
    }
   ],
   "source": [
    "# sine curve example \n",
    "x = np.arange(0,4*np.pi,0.1)\n",
    "y=np.sin(x)\n",
    "plt.title('sine wave form')\n",
    "plt.plot(x,y)"
   ]
  },
  {
   "cell_type": "code",
   "execution_count": 47,
   "id": "a821e63d",
   "metadata": {},
   "outputs": [
    {
     "data": {
      "text/plain": [
       "Text(0.5, 0, 'x oiii')"
      ]
     },
     "execution_count": 47,
     "metadata": {},
     "output_type": "execute_result"
    },
    {
     "data": {
      "image/png": "[encoded data removed]",
      "text/plain": [
       "<Figure size 640x480 with 1 Axes>"
      ]
     },
     "metadata": {},
     "output_type": "display_data"
    }
   ],
   "source": [
    "# bar plot\n",
    "\n",
    "x= [2,7,8]\n",
    "y= [23,4,12]\n",
    "\n",
    "x2= [3,6,9]\n",
    "y2= [1,13,17]\n",
    "\n",
    "plt.bar(x,y,align=\"center\")\n",
    "plt.bar(x2,y2, color='r')\n",
    "plt.title(\"bar graph\")\n",
    "plt.ylabel('y oiii')\n",
    "plt.xlabel('x oiii')"
   ]
  },
  {
   "cell_type": "code",
   "execution_count": 48,
   "id": "b6791ed1",
   "metadata": {},
   "outputs": [
    {
     "data": {
      "text/plain": [
       "Text(0.5, 1.0, 'Histogram')"
      ]
     },
     "execution_count": 48,
     "metadata": {},
     "output_type": "execute_result"
    },
    {
     "data": {
      "image/png": "[encoded data removed]",
      "text/plain": [
       "<Figure size 640x480 with 1 Axes>"
      ]
     },
     "metadata": {},
     "output_type": "display_data"
    }
   ],
   "source": [
    "# histograms\n",
    "a=np.array([22,23,34,35,45,6,7,6,55,66,78,78,45,23])\n",
    "plt.hist(a)\n",
    "plt.title(\"Histogram\")\n"
   ]
  },
  {
   "cell_type": "code",
   "execution_count": 55,
   "id": "588b60be",
   "metadata": {},
   "outputs": [
    {
     "data": {
      "text/plain": [
       "Text(0.5, 1.0, 'Programming Language Popularity')"
      ]
     },
     "execution_count": 55,
     "metadata": {},
     "output_type": "execute_result"
    },
    {
     "data": {
      "image/png": "[encoded data removed]",
      "text/plain": [
       "<Figure size 800x800 with 1 Axes>"
      ]
     },
     "metadata": {},
     "output_type": "display_data"
    }
   ],
   "source": [
    "# Data to plot\n",
    "labels = 'Python', 'Java', 'C++', 'Ruby'\n",
    "sizes = [215, 130, 245, 210]\n",
    "colors = ['gold', 'yellowgreen', 'lightcoral', 'lightskyblue']\n",
    "explode = (0.7,0,0,0) #explode first slice\n",
    " \n",
    "# Plotting the pie chart\n",
    "plt.figure(figsize=(8, 8))\n",
    "plt.pie(sizes,explode=explode,labels=labels, colors=colors, autopct='%1.1f%%', startangle=140)\n",
    " \n",
    "plt.axis('equal')  # Equal aspect ratio ensures that pie is drawn as a circle.\n",
    "plt.title('Programming Language Popularity')"
   ]
  },
  {
   "cell_type": "markdown",
   "id": "1dda155f",
   "metadata": {},
   "source": [
    "# L-9 Seaborn-Distribution plots \n",
    "\n",
    "- displot\n",
    "- joinplot\n",
    "- pairplot"
   ]
  },
  {
   "cell_type": "code",
   "execution_count": 56,
   "id": "6882bad7",
   "metadata": {},
   "outputs": [],
   "source": [
    "# iris dataset in use"
   ]
  },
  {
   "cell_type": "code",
   "execution_count": 57,
   "id": "43d7d10c",
   "metadata": {},
   "outputs": [],
   "source": [
    "import seaborn as sns"
   ]
  },
  {
   "cell_type": "code",
   "execution_count": 58,
   "id": "20cde291",
   "metadata": {},
   "outputs": [],
   "source": [
    "df=sns.load_dataset(\"tips\")"
   ]
  },
  {
   "cell_type": "code",
   "execution_count": 59,
   "id": "a16f2e92",
   "metadata": {},
   "outputs": [
    {
     "data": {
      "text/html": [
       "<div>\n",
       "<style scoped>\n",
       "    .dataframe tbody tr th:only-of-type {\n",
       "        vertical-align: middle;\n",
       "    }\n",
       "\n",
       "    .dataframe tbody tr th {\n",
       "        vertical-align: top;\n",
       "    }\n",
       "\n",
       "    .dataframe thead th {\n",
       "        text-align: right;\n",
       "    }\n",
       "</style>\n",
       "<table border=\"1\" class=\"dataframe\">\n",
       "  <thead>\n",
       "    <tr style=\"text-align: right;\">\n",
       "      <th></th>\n",
       "      <th>total_bill</th>\n",
       "      <th>tip</th>\n",
       "      <th>sex</th>\n",
       "      <th>smoker</th>\n",
       "      <th>day</th>\n",
       "      <th>time</th>\n",
       "      <th>size</th>\n",
       "    </tr>\n",
       "  </thead>\n",
       "  <tbody>\n",
       "    <tr>\n",
       "      <th>0</th>\n",
       "      <td>16.99</td>\n",
       "      <td>1.01</td>\n",
       "      <td>Female</td>\n",
       "      <td>No</td>\n",
       "      <td>Sun</td>\n",
       "      <td>Dinner</td>\n",
       "      <td>2</td>\n",
       "    </tr>\n",
       "    <tr>\n",
       "      <th>1</th>\n",
       "      <td>10.34</td>\n",
       "      <td>1.66</td>\n",
       "      <td>Male</td>\n",
       "      <td>No</td>\n",
       "      <td>Sun</td>\n",
       "      <td>Dinner</td>\n",
       "      <td>3</td>\n",
       "    </tr>\n",
       "    <tr>\n",
       "      <th>2</th>\n",
       "      <td>21.01</td>\n",
       "      <td>3.50</td>\n",
       "      <td>Male</td>\n",
       "      <td>No</td>\n",
       "      <td>Sun</td>\n",
       "      <td>Dinner</td>\n",
       "      <td>3</td>\n",
       "    </tr>\n",
       "    <tr>\n",
       "      <th>3</th>\n",
       "      <td>23.68</td>\n",
       "      <td>3.31</td>\n",
       "      <td>Male</td>\n",
       "      <td>No</td>\n",
       "      <td>Sun</td>\n",
       "      <td>Dinner</td>\n",
       "      <td>2</td>\n",
       "    </tr>\n",
       "    <tr>\n",
       "      <th>4</th>\n",
       "      <td>24.59</td>\n",
       "      <td>3.61</td>\n",
       "      <td>Female</td>\n",
       "      <td>No</td>\n",
       "      <td>Sun</td>\n",
       "      <td>Dinner</td>\n",
       "      <td>4</td>\n",
       "    </tr>\n",
       "  </tbody>\n",
       "</table>\n",
       "</div>"
      ],
      "text/plain": [
       "   total_bill   tip     sex smoker  day    time  size\n",
       "0       16.99  1.01  Female     No  Sun  Dinner     2\n",
       "1       10.34  1.66    Male     No  Sun  Dinner     3\n",
       "2       21.01  3.50    Male     No  Sun  Dinner     3\n",
       "3       23.68  3.31    Male     No  Sun  Dinner     2\n",
       "4       24.59  3.61  Female     No  Sun  Dinner     4"
      ]
     },
     "execution_count": 59,
     "metadata": {},
     "output_type": "execute_result"
    }
   ],
   "source": [
    "df.head()"
   ]
  },
  {
   "cell_type": "markdown",
   "id": "3c563c5f",
   "metadata": {},
   "source": [
    "## correlation with Heatmap\n",
    "- a correlation heatmap uses colored cells, typically in a monochromatic scale, to show a 2D correlation matrix(table) between two discrete dimensions or event types. it is very important in feature selection "
   ]
  },
  {
   "cell_type": "code",
   "execution_count": 60,
   "id": "c33b3330",
   "metadata": {},
   "outputs": [
    {
     "name": "stderr",
     "output_type": "stream",
     "text": [
      "C:\\Users\\Planet\\AppData\\Local\\Temp\\ipykernel_9480\\1134722465.py:1: FutureWarning: The default value of numeric_only in DataFrame.corr is deprecated. In a future version, it will default to False. Select only valid columns or specify the value of numeric_only to silence this warning.\n",
      "  df.corr()\n"
     ]
    },
    {
     "data": {
      "text/html": [
       "<div>\n",
       "<style scoped>\n",
       "    .dataframe tbody tr th:only-of-type {\n",
       "        vertical-align: middle;\n",
       "    }\n",
       "\n",
       "    .dataframe tbody tr th {\n",
       "        vertical-align: top;\n",
       "    }\n",
       "\n",
       "    .dataframe thead th {\n",
       "        text-align: right;\n",
       "    }\n",
       "</style>\n",
       "<table border=\"1\" class=\"dataframe\">\n",
       "  <thead>\n",
       "    <tr style=\"text-align: right;\">\n",
       "      <th></th>\n",
       "      <th>total_bill</th>\n",
       "      <th>tip</th>\n",
       "      <th>size</th>\n",
       "    </tr>\n",
       "  </thead>\n",
       "  <tbody>\n",
       "    <tr>\n",
       "      <th>total_bill</th>\n",
       "      <td>1.000000</td>\n",
       "      <td>0.675734</td>\n",
       "      <td>0.598315</td>\n",
       "    </tr>\n",
       "    <tr>\n",
       "      <th>tip</th>\n",
       "      <td>0.675734</td>\n",
       "      <td>1.000000</td>\n",
       "      <td>0.489299</td>\n",
       "    </tr>\n",
       "    <tr>\n",
       "      <th>size</th>\n",
       "      <td>0.598315</td>\n",
       "      <td>0.489299</td>\n",
       "      <td>1.000000</td>\n",
       "    </tr>\n",
       "  </tbody>\n",
       "</table>\n",
       "</div>"
      ],
      "text/plain": [
       "            total_bill       tip      size\n",
       "total_bill    1.000000  0.675734  0.598315\n",
       "tip           0.675734  1.000000  0.489299\n",
       "size          0.598315  0.489299  1.000000"
      ]
     },
     "execution_count": 60,
     "metadata": {},
     "output_type": "execute_result"
    }
   ],
   "source": [
    "df.corr()"
   ]
  },
  {
   "cell_type": "code",
   "execution_count": 61,
   "id": "9861a159",
   "metadata": {},
   "outputs": [
    {
     "name": "stderr",
     "output_type": "stream",
     "text": [
      "C:\\Users\\Planet\\AppData\\Local\\Temp\\ipykernel_9480\\58359773.py:1: FutureWarning: The default value of numeric_only in DataFrame.corr is deprecated. In a future version, it will default to False. Select only valid columns or specify the value of numeric_only to silence this warning.\n",
      "  sns.heatmap(df.corr())\n"
     ]
    },
    {
     "data": {
      "text/plain": [
       "<Axes: >"
      ]
     },
     "execution_count": 61,
     "metadata": {},
     "output_type": "execute_result"
    },
    {
     "data": {
      "image/png": "[encoded data removed]",
      "text/plain": [
       "<Figure size 640x480 with 2 Axes>"
      ]
     },
     "metadata": {},
     "output_type": "display_data"
    }
   ],
   "source": [
    "sns.heatmap(df.corr())"
   ]
  },
  {
   "cell_type": "markdown",
   "id": "533a69e0",
   "metadata": {},
   "source": [
    "## JoinPlot\n",
    "- a join plot allows to study the relationship between 2 numeric variables.The central chart display their correlation.it is usually a scatterplot, a hexbin plot, a 2D histogram or 2D density plot"
   ]
  },
  {
   "cell_type": "markdown",
   "id": "0ac58d3b",
   "metadata": {},
   "source": [
    "### Univariate Analysis"
   ]
  },
  {
   "cell_type": "code",
   "execution_count": 63,
   "id": "299309c7",
   "metadata": {},
   "outputs": [
    {
     "data": {
      "text/plain": [
       "<seaborn.axisgrid.JointGrid at 0x1ddecca8850>"
      ]
     },
     "execution_count": 63,
     "metadata": {},
     "output_type": "execute_result"
    },
    {
     "data": {
      "image/png": "[encoded data removed]",
      "text/plain": [
       "<Figure size 600x600 with 3 Axes>"
      ]
     },
     "metadata": {},
     "output_type": "display_data"
    }
   ],
   "source": [
    "sns.jointplot(x='tip',y='total_bill', data=df, kind=\"hex\")"
   ]
  },
  {
   "cell_type": "code",
   "execution_count": 64,
   "id": "1d6102e6",
   "metadata": {},
   "outputs": [
    {
     "data": {
      "text/plain": [
       "<seaborn.axisgrid.PairGrid at 0x1ddf623c190>"
      ]
     },
     "execution_count": 64,
     "metadata": {},
     "output_type": "execute_result"
    },
    {
     "data": {
      "image/png": "[encoded data removed]",
      "text/plain": [
       "<Figure size 850.25x750 with 12 Axes>"
      ]
     },
     "metadata": {},
     "output_type": "display_data"
    }
   ],
   "source": [
    "sns.pairplot(df,hue='sex')"
   ]
  },
  {
   "cell_type": "markdown",
   "id": "23fe3b41",
   "metadata": {},
   "source": [
    "### dist plot"
   ]
  },
  {
   "cell_type": "code",
   "execution_count": 65,
   "id": "0e8c12e4",
   "metadata": {},
   "outputs": [
    {
     "name": "stderr",
     "output_type": "stream",
     "text": [
      "C:\\Users\\Planet\\AppData\\Local\\Temp\\ipykernel_9480\\184943267.py:1: UserWarning: \n",
      "\n",
      "`distplot` is a deprecated function and will be removed in seaborn v0.14.0.\n",
      "\n",
      "Please adapt your code to use either `displot` (a figure-level function with\n",
      "similar flexibility) or `histplot` (an axes-level function for histograms).\n",
      "\n",
      "For a guide to updating your code to use the new functions, please see\n",
      "https://gist.github.com/mwaskom/de44147ed2974457ad6372750bbe5751\n",
      "\n",
      "  sns.distplot(df['tip'],kde=False,bins=10)\n"
     ]
    },
    {
     "data": {
      "text/plain": [
       "<Axes: xlabel='tip'>"
      ]
     },
     "execution_count": 65,
     "metadata": {},
     "output_type": "execute_result"
    },
    {
     "data": {
      "image/png": "[encoded data removed]",
      "text/plain": [
       "<Figure size 640x480 with 1 Axes>"
      ]
     },
     "metadata": {},
     "output_type": "display_data"
    }
   ],
   "source": [
    "sns.distplot(df['tip'],kde=False,bins=10)"
   ]
  },
  {
   "cell_type": "code",
   "execution_count": 66,
   "id": "7e942137",
   "metadata": {},
   "outputs": [
    {
     "name": "stderr",
     "output_type": "stream",
     "text": [
      "C:\\Users\\Planet\\AppData\\Local\\Temp\\ipykernel_9480\\4235560333.py:1: UserWarning: \n",
      "\n",
      "`distplot` is a deprecated function and will be removed in seaborn v0.14.0.\n",
      "\n",
      "Please adapt your code to use either `displot` (a figure-level function with\n",
      "similar flexibility) or `histplot` (an axes-level function for histograms).\n",
      "\n",
      "For a guide to updating your code to use the new functions, please see\n",
      "https://gist.github.com/mwaskom/de44147ed2974457ad6372750bbe5751\n",
      "\n",
      "  sns.distplot(df['tip'])\n"
     ]
    },
    {
     "data": {
      "text/plain": [
       "<Axes: xlabel='tip', ylabel='Density'>"
      ]
     },
     "execution_count": 66,
     "metadata": {},
     "output_type": "execute_result"
    },
    {
     "data": {
      "image/png": "[encoded data removed]",
      "text/plain": [
       "<Figure size 640x480 with 1 Axes>"
      ]
     },
     "metadata": {},
     "output_type": "display_data"
    }
   ],
   "source": [
    "sns.distplot(df['tip'])"
   ]
  },
  {
   "cell_type": "markdown",
   "id": "887eefd3",
   "metadata": {},
   "source": [
    "# L-10 Categorical Plots\n",
    "- boxplot\n",
    "- voilinplot\n",
    "- countplot\n",
    "- barplot"
   ]
  },
  {
   "cell_type": "code",
   "execution_count": 70,
   "id": "f14f1600",
   "metadata": {},
   "outputs": [
    {
     "data": {
      "image/png": "[encoded data removed]",
      "text/plain": [
       "<Figure size 1000x600 with 1 Axes>"
      ]
     },
     "metadata": {},
     "output_type": "display_data"
    }
   ],
   "source": [
    "import seaborn as sns\n",
    "import matplotlib.pyplot as plt\n",
    "import pandas as pd\n",
    "\n",
    "# Load example dataset\n",
    "tips = sns.load_dataset(\"tips\")\n",
    "\n",
    "# Example 1: Boxplot\n",
    "plt.figure(figsize=(10, 6))\n",
    "sns.boxplot(x='day', y='total_bill', data=tips)\n",
    "plt.title('Boxplot of Total Bill by Day')\n",
    "plt.show()"
   ]
  },
  {
   "cell_type": "code",
   "execution_count": 71,
   "id": "220573a0",
   "metadata": {},
   "outputs": [
    {
     "data": {
      "image/png": "[encoded data removed]",
      "text/plain": [
       "<Figure size 1000x600 with 1 Axes>"
      ]
     },
     "metadata": {},
     "output_type": "display_data"
    }
   ],
   "source": [
    "# Example 2: Violinplot\n",
    "plt.figure(figsize=(10, 6))\n",
    "sns.violinplot(x='day', y='total_bill', data=tips)\n",
    "plt.title('Violinplot of Total Bill by Day')\n",
    "plt.show()"
   ]
  },
  {
   "cell_type": "code",
   "execution_count": 72,
   "id": "bf768ad9",
   "metadata": {},
   "outputs": [
    {
     "data": {
      "image/png": "[encoded data removed]",
      "text/plain": [
       "<Figure size 1000x600 with 1 Axes>"
      ]
     },
     "metadata": {},
     "output_type": "display_data"
    }
   ],
   "source": [
    "# Example 3: Countplot\n",
    "plt.figure(figsize=(10, 6))\n",
    "sns.countplot(x='day', data=tips)\n",
    "plt.title('Countplot of Days')\n",
    "plt.show()"
   ]
  },
  {
   "cell_type": "code",
   "execution_count": 73,
   "id": "1a7b3099",
   "metadata": {},
   "outputs": [
    {
     "data": {
      "image/png": "[encoded data removed]",
      "text/plain": [
       "<Figure size 1000x600 with 1 Axes>"
      ]
     },
     "metadata": {},
     "output_type": "display_data"
    }
   ],
   "source": [
    "# Example 4: Barplot\n",
    "plt.figure(figsize=(10, 6))\n",
    "sns.barplot(x='day', y='total_bill', data=tips)\n",
    "plt.title('Barplot of Total Bill by Day')\n",
    "plt.show()"
   ]
  },
  {
   "cell_type": "markdown",
   "id": "43303b5c",
   "metadata": {},
   "source": [
    "# Exploratory Data Analysis(EDA)- Logistic Regression\n",
    "\n",
    "- Ttitanic data set from kaggle-very useful dataset to step into and work with machine learing (as beginner)\n",
    "\n",
    "- outcomes-->\n",
    "- Predict a classification- survival or deceased\n",
    "- implementing of logical regression in python for classification\n",
    "\n",
    "# import some libraries\n"
   ]
  },
  {
   "cell_type": "code",
   "execution_count": 1,
   "id": "dc1e528c",
   "metadata": {},
   "outputs": [],
   "source": [
    "import pandas as pd\n",
    "import numpy as np\n",
    "import matplotlib.pyplot as plt\n",
    "import seaborn as sns\n",
    "%matplotlib inline"
   ]
  },
  {
   "cell_type": "markdown",
   "id": "7e46be37",
   "metadata": {},
   "source": [
    "## The Data"
   ]
  },
  {
   "cell_type": "markdown",
   "id": "d52e444a",
   "metadata": {},
   "source": [
    "- refer ipynb-EDA-titanic_DB in main folder"
   ]
  },
  {
   "cell_type": "markdown",
   "id": "caab4590",
   "metadata": {},
   "source": [
    "# Functions in Python\n",
    "\n",
    "- why functions\n",
    "- function defination\n",
    "- Positional and keyword arguments in Functions"
   ]
  },
  {
   "cell_type": "code",
   "execution_count": 2,
   "id": "2545727b",
   "metadata": {},
   "outputs": [
    {
     "name": "stdout",
     "output_type": "stream",
     "text": [
      "even\n"
     ]
    }
   ],
   "source": [
    "num=24\n",
    "\n",
    "if num%2==0:\n",
    "    print(\"even\")\n",
    "else:\n",
    "    print(\"odd\")"
   ]
  },
  {
   "cell_type": "code",
   "execution_count": 3,
   "id": "70f6aafd",
   "metadata": {},
   "outputs": [],
   "source": [
    "#creation of function--"
   ]
  },
  {
   "cell_type": "code",
   "execution_count": 4,
   "id": "e8f27b27",
   "metadata": {},
   "outputs": [],
   "source": [
    "def e_o(num):\n",
    "    \n",
    "    if num%2==0:\n",
    "        print(\"even\")\n",
    "    else:\n",
    "        print(\"odd\")"
   ]
  },
  {
   "cell_type": "code",
   "execution_count": 5,
   "id": "811f35dd",
   "metadata": {},
   "outputs": [
    {
     "name": "stdout",
     "output_type": "stream",
     "text": [
      "even\n"
     ]
    }
   ],
   "source": [
    "e_o(2)"
   ]
  },
  {
   "cell_type": "code",
   "execution_count": 6,
   "id": "ee19452b",
   "metadata": {},
   "outputs": [
    {
     "name": "stdout",
     "output_type": "stream",
     "text": [
      "odd\n"
     ]
    }
   ],
   "source": [
    "e_o(1)"
   ]
  },
  {
   "cell_type": "code",
   "execution_count": 7,
   "id": "c15ea127",
   "metadata": {},
   "outputs": [],
   "source": [
    "def kas_kay():\n",
    "    return \"kay nahi mst chalu ahe sagla!!\""
   ]
  },
  {
   "cell_type": "code",
   "execution_count": 8,
   "id": "ad811e21",
   "metadata": {},
   "outputs": [],
   "source": [
    "kay_chaly=kas_kay()"
   ]
  },
  {
   "cell_type": "code",
   "execution_count": 9,
   "id": "1ba11a47",
   "metadata": {},
   "outputs": [
    {
     "name": "stdout",
     "output_type": "stream",
     "text": [
      "kay nahi mst chalu ahe sagla!!\n"
     ]
    }
   ],
   "source": [
    "print(kay_chaly)"
   ]
  },
  {
   "cell_type": "code",
   "execution_count": 10,
   "id": "f69473fc",
   "metadata": {},
   "outputs": [],
   "source": [
    "def kon_tu(nav,vay):\n",
    "    print(\"Maza nav {} ahe ani me {} varshacha ahe.\".format(nav,vay))\n",
    "    "
   ]
  },
  {
   "cell_type": "code",
   "execution_count": 11,
   "id": "a07c7bbd",
   "metadata": {},
   "outputs": [
    {
     "name": "stdout",
     "output_type": "stream",
     "text": [
      "Maza nav jeevan ahe ani me 20 varshacha ahe.\n"
     ]
    }
   ],
   "source": [
    "kon_tu('jeevan','20')"
   ]
  },
  {
   "cell_type": "markdown",
   "id": "8eaa56f6",
   "metadata": {},
   "source": [
    "## Keyword arguments"
   ]
  },
  {
   "cell_type": "code",
   "execution_count": 12,
   "id": "e65c48a6",
   "metadata": {},
   "outputs": [],
   "source": [
    "# in above example if the 'vay' is already defined i.e--vay=20 is called keyword argument.\n",
    "def kon_tu(nav,vay=20):\n",
    "    print(\"Maza nav {} ahe ani me {} varshacha ahe.\".format(nav,vay))\n",
    "    \n"
   ]
  },
  {
   "cell_type": "code",
   "execution_count": 13,
   "id": "7721ea64",
   "metadata": {},
   "outputs": [
    {
     "name": "stdout",
     "output_type": "stream",
     "text": [
      "Maza nav jeevan ahe ani me 20 varshacha ahe.\n"
     ]
    }
   ],
   "source": [
    "kon_tu('jeevan')"
   ]
  },
  {
   "cell_type": "code",
   "execution_count": 14,
   "id": "1010bc37",
   "metadata": {},
   "outputs": [],
   "source": [
    "def tu_kon(*args,**kwargs):\n",
    "    print(args)\n",
    "    print(kwargs)"
   ]
  },
  {
   "cell_type": "code",
   "execution_count": 15,
   "id": "b193d640",
   "metadata": {},
   "outputs": [
    {
     "name": "stdout",
     "output_type": "stream",
     "text": [
      "('jeeva', 'hatti')\n",
      "{'age': 20, 'dob': 2003}\n"
     ]
    }
   ],
   "source": [
    "tu_kon(\"jeeva\",\"hatti\",age=20,dob=2003)"
   ]
  },
  {
   "cell_type": "code",
   "execution_count": null,
   "id": "0a052108",
   "metadata": {},
   "outputs": [],
   "source": [
    "# so we have to specifiy which is position argument and keyword argument"
   ]
  },
  {
   "cell_type": "markdown",
   "id": "e4370f9b",
   "metadata": {},
   "source": [
    "\n",
    "#  Lambda function\n",
    "\n",
    "- also called as anonymous function\n",
    "- function with no name"
   ]
  },
  {
   "cell_type": "code",
   "execution_count": 17,
   "id": "bcb3ecce",
   "metadata": {},
   "outputs": [],
   "source": [
    "def addition(a,b):\n",
    "    return a+b"
   ]
  },
  {
   "cell_type": "code",
   "execution_count": 18,
   "id": "1bb4e6dd",
   "metadata": {},
   "outputs": [
    {
     "data": {
      "text/plain": [
       "11"
      ]
     },
     "execution_count": 18,
     "metadata": {},
     "output_type": "execute_result"
    }
   ],
   "source": [
    "addition(4,7)"
   ]
  },
  {
   "cell_type": "code",
   "execution_count": 19,
   "id": "f88b22ad",
   "metadata": {},
   "outputs": [],
   "source": [
    "addition= lambda a,b:a+b"
   ]
  },
  {
   "cell_type": "code",
   "execution_count": 20,
   "id": "f1286827",
   "metadata": {},
   "outputs": [
    {
     "data": {
      "text/plain": [
       "5"
      ]
     },
     "execution_count": 20,
     "metadata": {},
     "output_type": "execute_result"
    }
   ],
   "source": [
    "addition(2,3)"
   ]
  },
  {
   "cell_type": "code",
   "execution_count": 23,
   "id": "c8ddf1cf",
   "metadata": {},
   "outputs": [],
   "source": [
    "def even (num):\n",
    "    if num%2==0:\n",
    "        return True\n",
    "    else: \n",
    "        return False"
   ]
  },
  {
   "cell_type": "code",
   "execution_count": 24,
   "id": "0240a76c",
   "metadata": {},
   "outputs": [
    {
     "data": {
      "text/plain": [
       "False"
      ]
     },
     "execution_count": 24,
     "metadata": {},
     "output_type": "execute_result"
    }
   ],
   "source": [
    "even(43)"
   ]
  },
  {
   "cell_type": "code",
   "execution_count": 25,
   "id": "ccdaac92",
   "metadata": {},
   "outputs": [],
   "source": [
    "even1=lambda a:a%2==0"
   ]
  },
  {
   "cell_type": "code",
   "execution_count": 26,
   "id": "0a07f2d0",
   "metadata": {},
   "outputs": [
    {
     "data": {
      "text/plain": [
       "False"
      ]
     },
     "execution_count": 26,
     "metadata": {},
     "output_type": "execute_result"
    }
   ],
   "source": [
    "even1(23)"
   ]
  },
  {
   "cell_type": "markdown",
   "id": "f73ada6b",
   "metadata": {},
   "source": [
    "# Map fucntions using Python"
   ]
  },
  {
   "cell_type": "code",
   "execution_count": 27,
   "id": "2087ce2f",
   "metadata": {},
   "outputs": [],
   "source": [
    "def even_or_odd(num):\n",
    "    if num%2==0:\n",
    "        return \"yaaa\".format(num)\n",
    "    else:\n",
    "        return \"booo\".format(num)"
   ]
  },
  {
   "cell_type": "code",
   "execution_count": 28,
   "id": "5da093cb",
   "metadata": {},
   "outputs": [
    {
     "data": {
      "text/plain": [
       "'yaaa'"
      ]
     },
     "execution_count": 28,
     "metadata": {},
     "output_type": "execute_result"
    }
   ],
   "source": [
    "even_or_odd(26)"
   ]
  },
  {
   "cell_type": "code",
   "execution_count": 29,
   "id": "c3e1f305",
   "metadata": {},
   "outputs": [],
   "source": [
    "lst=[1,2,3,4,5,6,7,8,9,56,77,89]"
   ]
  },
  {
   "cell_type": "code",
   "execution_count": 31,
   "id": "7d5e9d82",
   "metadata": {},
   "outputs": [
    {
     "data": {
      "text/plain": [
       "['booo',\n",
       " 'yaaa',\n",
       " 'booo',\n",
       " 'yaaa',\n",
       " 'booo',\n",
       " 'yaaa',\n",
       " 'booo',\n",
       " 'yaaa',\n",
       " 'booo',\n",
       " 'yaaa',\n",
       " 'booo',\n",
       " 'booo']"
      ]
     },
     "execution_count": 31,
     "metadata": {},
     "output_type": "execute_result"
    }
   ],
   "source": [
    "\n",
    "list(map(even_or_odd,lst))"
   ]
  },
  {
   "cell_type": "code",
   "execution_count": null,
   "id": "fb6e6629",
   "metadata": {},
   "outputs": [],
   "source": [
    "# it saves time by overcoming repetable or iterable process."
   ]
  },
  {
   "cell_type": "markdown",
   "id": "48464232",
   "metadata": {},
   "source": [
    "# Filter fucntion using python\n"
   ]
  },
  {
   "cell_type": "code",
   "execution_count": 37,
   "id": "d827401f",
   "metadata": {},
   "outputs": [],
   "source": [
    "def e(num):\n",
    "    if num%2==0:\n",
    "        return True\n",
    "    else: \n",
    "        return False"
   ]
  },
  {
   "cell_type": "code",
   "execution_count": 38,
   "id": "d2135f3c",
   "metadata": {},
   "outputs": [],
   "source": [
    "lst=[1,2,3,4,5,6,7,8]\n"
   ]
  },
  {
   "cell_type": "code",
   "execution_count": 39,
   "id": "49b78a9a",
   "metadata": {},
   "outputs": [
    {
     "data": {
      "text/plain": [
       "[2, 4, 6, 8]"
      ]
     },
     "execution_count": 39,
     "metadata": {},
     "output_type": "execute_result"
    }
   ],
   "source": [
    "list(filter(e,lst))"
   ]
  },
  {
   "cell_type": "code",
   "execution_count": 40,
   "id": "f707ac24",
   "metadata": {},
   "outputs": [
    {
     "data": {
      "text/plain": [
       "[2, 4, 6, 8]"
      ]
     },
     "execution_count": 40,
     "metadata": {},
     "output_type": "execute_result"
    }
   ],
   "source": [
    "list(filter(lambda num:num%2==0,lst))"
   ]
  },
  {
   "cell_type": "code",
   "execution_count": 41,
   "id": "139bda2c",
   "metadata": {},
   "outputs": [
    {
     "data": {
      "text/plain": [
       "[False, True, False, True, False, True, False, True]"
      ]
     },
     "execution_count": 41,
     "metadata": {},
     "output_type": "execute_result"
    }
   ],
   "source": [
    "list(map(lambda num:num%2==0,lst))"
   ]
  },
  {
   "cell_type": "markdown",
   "id": "5deb28e9",
   "metadata": {},
   "source": [
    "# Python list comprehension\n",
    "\n",
    "- concise way to create a list\n"
   ]
  },
  {
   "cell_type": "code",
   "execution_count": 44,
   "id": "a811b215",
   "metadata": {},
   "outputs": [],
   "source": [
    "lst1=[]\n",
    "def lst_s(lst):\n",
    "    for i in lst:\n",
    "        lst1.append(i*i)\n",
    "    return lst1"
   ]
  },
  {
   "cell_type": "code",
   "execution_count": 45,
   "id": "10d96757",
   "metadata": {},
   "outputs": [
    {
     "data": {
      "text/plain": [
       "[1, 4, 9, 16, 4, 1024]"
      ]
     },
     "execution_count": 45,
     "metadata": {},
     "output_type": "execute_result"
    }
   ],
   "source": [
    "lst_s([1,2,3,4,2,32])"
   ]
  },
  {
   "cell_type": "code",
   "execution_count": 46,
   "id": "112dec1c",
   "metadata": {},
   "outputs": [],
   "source": [
    "# list comprehension\n",
    "lst1=[i*i for i in lst if i%2!=0]"
   ]
  },
  {
   "cell_type": "code",
   "execution_count": 47,
   "id": "f4820bc5",
   "metadata": {},
   "outputs": [
    {
     "name": "stdout",
     "output_type": "stream",
     "text": [
      "[1, 9, 25, 49]\n"
     ]
    }
   ],
   "source": [
    "print(lst1)"
   ]
  },
  {
   "cell_type": "markdown",
   "id": "2f53f968",
   "metadata": {},
   "source": [
    "# Python advances string formatting\n",
    "\n"
   ]
  },
  {
   "cell_type": "code",
   "execution_count": 49,
   "id": "cc8e9b1a",
   "metadata": {},
   "outputs": [],
   "source": [
    "#To demonstrate string formatting in a Jupyter notebook (.ipynb), we can use Python's f-strings, \n",
    "# which allow for easy string interpolation. Here's an example:"
   ]
  },
  {
   "cell_type": "code",
   "execution_count": 50,
   "id": "d5103dcc",
   "metadata": {},
   "outputs": [
    {
     "data": {
      "text/plain": [
       "'My name is Alice, I am 30 years old, and I live in New York.'"
      ]
     },
     "execution_count": 50,
     "metadata": {},
     "output_type": "execute_result"
    }
   ],
   "source": [
    "name = \"Alice\"\n",
    "age = 30\n",
    "city = \"New York\"\n",
    "\n",
    "# Using f-string for string formatting\n",
    "formatted_string = f\"My name is {name}, I am {age} years old, and I live in {city}.\"\n",
    "formatted_string\n"
   ]
  },
  {
   "cell_type": "code",
   "execution_count": 51,
   "id": "f2faa2ca",
   "metadata": {},
   "outputs": [],
   "source": [
    "#Explanation:\n",
    "\n",
    "#The f before the string indicates that this is an f-string, which allows us to embed expressions inside curly braces {}.\n",
    "#Inside the curly braces, we can directly use variables or expressions.\n",
    "#In this case, we've used name, age, and city variables.\n",
    "#Python will replace the expressions inside the curly braces with their values when the string is formatted.\n"
   ]
  },
  {
   "cell_type": "markdown",
   "id": "bd1b83af",
   "metadata": {},
   "source": [
    "# Python Iterable vs Iterators"
   ]
  },
  {
   "cell_type": "code",
   "execution_count": 52,
   "id": "c7ea9deb",
   "metadata": {},
   "outputs": [
    {
     "name": "stdout",
     "output_type": "stream",
     "text": [
      "0\n",
      "1\n",
      "4\n",
      "9\n",
      "16\n"
     ]
    }
   ],
   "source": [
    "# Iterable class\n",
    "class Squares:\n",
    "    def __init__(self, n):\n",
    "        self.n = n\n",
    "\n",
    "    def __iter__(self):\n",
    "        return SquaresIterator(self.n)\n",
    "\n",
    "# Iterator class\n",
    "class SquaresIterator:\n",
    "    def __init__(self, n):\n",
    "        self.i = 0\n",
    "        self.n = n\n",
    "\n",
    "    def __iter__(self):\n",
    "        return self\n",
    "\n",
    "    def __next__(self):\n",
    "        if self.i < self.n:\n",
    "            result = self.i ** 2\n",
    "            self.i += 1\n",
    "            return result\n",
    "        else:\n",
    "            raise StopIteration\n",
    "\n",
    "# Using the iterable\n",
    "squares_iterable = Squares(5)\n",
    "\n",
    "# Iterating over the iterable using a for loop\n",
    "for square in squares_iterable:\n",
    "    print(square)\n"
   ]
  },
  {
   "cell_type": "code",
   "execution_count": null,
   "id": "65da3dfd",
   "metadata": {},
   "outputs": [],
   "source": [
    "#Explanation:\n",
    "\n",
    "# We define an Iterable class Squares with __iter__ method that returns an iterator object SquaresIterator.\n",
    "# The SquaresIterator class implements the iterator protocol with __iter__ and __next__ methods. \n",
    "# It keeps track of the current index (self.i) and the maximum index (self.n).\n",
    "# When we iterate over the Squares object using a for loop, it internally calls iter() on the Squares object, which in turn calls __iter__ method of Squares class, returning an iterator object.\n",
    "# The for loop then calls __next__ method on the iterator object until StopIteration is raised, printing each square of the numbers from 0 to 4"
   ]
  },
  {
   "cell_type": "markdown",
   "id": "f99cdcc6",
   "metadata": {},
   "source": [
    "# Pyforest - lazy-import of all python Data science libraries"
   ]
  },
  {
   "cell_type": "code",
   "execution_count": 54,
   "id": "27abb190",
   "metadata": {},
   "outputs": [
    {
     "ename": "NameError",
     "evalue": "name 'active_imports' is not defined",
     "output_type": "error",
     "traceback": [
      "\u001b[1;31m---------------------------------------------------------------------------\u001b[0m",
      "\u001b[1;31mNameError\u001b[0m                                 Traceback (most recent call last)",
      "Cell \u001b[1;32mIn[54], line 1\u001b[0m\n\u001b[1;32m----> 1\u001b[0m active_imports()\n",
      "\u001b[1;31mNameError\u001b[0m: name 'active_imports' is not defined"
     ]
    }
   ],
   "source": [
    "active_imports()"
   ]
  },
  {
   "cell_type": "code",
   "execution_count": 58,
   "id": "c5626008",
   "metadata": {},
   "outputs": [
    {
     "data": {
      "image/png": "[encoded data removed]",
      "text/plain": [
       "<Figure size 640x480 with 1 Axes>"
      ]
     },
     "metadata": {},
     "output_type": "display_data"
    }
   ],
   "source": [
    "lst1=[1,3,4,55,6]\n",
    "lst2=[3,4,5,6,68]\n",
    "\n",
    "plt.plot(lst1,lst2)\n",
    "plt.xlabel('x')\n",
    "plt.ylabel('y')\n",
    "plt.show()"
   ]
  },
  {
   "cell_type": "markdown",
   "id": "3ccda90c",
   "metadata": {},
   "source": [
    "# OOPS in Python"
   ]
  },
  {
   "cell_type": "code",
   "execution_count": 6,
   "id": "7ca5bfee",
   "metadata": {},
   "outputs": [],
   "source": [
    "# creation of class\n",
    "class anime:\n",
    "    pass"
   ]
  },
  {
   "cell_type": "code",
   "execution_count": 7,
   "id": "9f461f0d",
   "metadata": {},
   "outputs": [],
   "source": [
    "naruto=anime()"
   ]
  },
  {
   "cell_type": "code",
   "execution_count": 8,
   "id": "f8e05ac7",
   "metadata": {},
   "outputs": [],
   "source": [
    "naruto.ep=800"
   ]
  },
  {
   "cell_type": "code",
   "execution_count": 9,
   "id": "20710884",
   "metadata": {},
   "outputs": [
    {
     "name": "stdout",
     "output_type": "stream",
     "text": [
      "800\n"
     ]
    }
   ],
   "source": [
    "print(naruto.ep)"
   ]
  },
  {
   "cell_type": "code",
   "execution_count": 11,
   "id": "d9e2268d",
   "metadata": {},
   "outputs": [],
   "source": [
    "one_piece=anime()"
   ]
  },
  {
   "cell_type": "code",
   "execution_count": 12,
   "id": "54bdf252",
   "metadata": {},
   "outputs": [],
   "source": [
    "one_piece.ep=1120"
   ]
  },
  {
   "cell_type": "code",
   "execution_count": 13,
   "id": "b925f835",
   "metadata": {},
   "outputs": [
    {
     "name": "stdout",
     "output_type": "stream",
     "text": [
      "1120\n"
     ]
    }
   ],
   "source": [
    "print(one_piece.ep)"
   ]
  },
  {
   "cell_type": "code",
   "execution_count": 16,
   "id": "fbfdb482",
   "metadata": {},
   "outputs": [],
   "source": [
    "#inbuilt function-->\n",
    "#using '_init_' fucntion\n",
    "# creation of class\n",
    "class anime:\n",
    "    def __init__(self,ep,mc,studio,name):\n",
    "        self.ep=ep\n",
    "        self.mc=mc\n",
    "        self.studio=studio\n",
    "        self.name=name\n",
    "    def big_3(self):\n",
    "        return \"this anime name is {} of {} studios\".format(self.name,self.studio)\n"
   ]
  },
  {
   "cell_type": "code",
   "execution_count": 17,
   "id": "9a32e402",
   "metadata": {},
   "outputs": [
    {
     "data": {
      "text/plain": [
       "'this anime name is Bleach of perriot studios'"
      ]
     },
     "execution_count": 17,
     "metadata": {},
     "output_type": "execute_result"
    }
   ],
   "source": [
    "bleach=anime(400,\"ichigo kurosaki\",\"perriot\",\"Bleach\")\n",
    "O_P=anime(1120,\"monkey D. luffy\",\"Toei\",\"one piece\")\n",
    "bleach.big_3()"
   ]
  },
  {
   "cell_type": "markdown",
   "id": "619d30dd",
   "metadata": {},
   "source": [
    "# Exception handling"
   ]
  },
  {
   "cell_type": "code",
   "execution_count": 1,
   "id": "d39a1059",
   "metadata": {},
   "outputs": [],
   "source": [
    "#exception handeling helps the user to know what particular error has occured and solve it.\n",
    "#we use 'try-except' clause-->"
   ]
  },
  {
   "cell_type": "code",
   "execution_count": 3,
   "id": "f4ff92f1",
   "metadata": {},
   "outputs": [
    {
     "name": "stdout",
     "output_type": "stream",
     "text": [
      "the user have not defined the variable\n"
     ]
    }
   ],
   "source": [
    "try:\n",
    "    # code block where excpetion can occur\n",
    "    b=a\n",
    "except NameError :\n",
    "    print(\"the user have not defined the variable\")\n",
    "# the exception below is predefined set which contains excpetion handeling statements but complex one.\n",
    "except Exception as ex:\n",
    "    print(ex)"
   ]
  },
  {
   "cell_type": "code",
   "execution_count": 11,
   "id": "353b2ba6",
   "metadata": {},
   "outputs": [
    {
     "name": "stdout",
     "output_type": "stream",
     "text": [
      "enter a number:12\n",
      "enter a number:0\n",
      "the user have to input number greater than 0\n"
     ]
    }
   ],
   "source": [
    "#we can also use 'try-expcept-else'\n",
    "try:\n",
    "    # code block where excpetion can occur\n",
    "    a=int(input(\"enter a number:\"))\n",
    "    b=int(input(\"enter a number:\"))\n",
    "    op1=a+b\n",
    "    op2=a-b\n",
    "    op3=a/b\n",
    "    \n",
    "except NameError:\n",
    "    print(\"the user have not defined the variable\")\n",
    "except TypeError:\n",
    "    print(\"the user have not defined the variable\")\n",
    "except ZeroDivisionError:\n",
    "    print(\"the user have to input number greater than 0\")\n",
    "\n",
    "# the exception below is predefined set which contains excpetion handeling statements but complex one.\n",
    "except Exception as ex:\n",
    "    print(ex)\n",
    "else:\n",
    "    print(op1)\n",
    "    print(op2)    \n",
    "    print(op3)    "
   ]
  },
  {
   "cell_type": "code",
   "execution_count": 12,
   "id": "1d2e2dcf",
   "metadata": {},
   "outputs": [
    {
     "name": "stdout",
     "output_type": "stream",
     "text": [
      "enter a number:12\n",
      "enter a number:3\n",
      "15\n",
      "9\n",
      "4.0\n",
      "the execution is complete\n"
     ]
    }
   ],
   "source": [
    "#we can use 'try-except-else-finally'\n",
    "#we can also use 'try-expcept-else'\n",
    "try:\n",
    "    # code block where excpetion can occur\n",
    "    a=int(input(\"enter a number:\"))\n",
    "    b=int(input(\"enter a number:\"))\n",
    "    op1=a+b\n",
    "    op2=a-b\n",
    "    op3=a/b\n",
    "    \n",
    "except NameError:\n",
    "    print(\"the user have not defined the variable\")\n",
    "except TypeError:\n",
    "    print(\"the user have not defined the variable\")\n",
    "except ZeroDivisionError:\n",
    "    print(\"the user have to input number greater than 0\")\n",
    "\n",
    "# the exception below is predefined set which contains excpetion handeling statements but complex one.\n",
    "except Exception as ex:\n",
    "    print(ex)\n",
    "else:\n",
    "    print(op1)\n",
    "    print(op2)    \n",
    "    print(op3)    \n",
    "finally:\n",
    "    print(\"the execution is complete\")"
   ]
  },
  {
   "cell_type": "markdown",
   "id": "7bcf5e74",
   "metadata": {},
   "source": [
    "# Custom Exception\n"
   ]
  },
  {
   "cell_type": "code",
   "execution_count": 13,
   "id": "7514a629",
   "metadata": {},
   "outputs": [],
   "source": [
    "#we use the case of inheritance here by enheriting a exception class and raising it later:\n",
    "class Error(Exception):\n",
    "    pass\n",
    "class dobEx(Error):\n",
    "    pass\n"
   ]
  },
  {
   "cell_type": "code",
   "execution_count": 19,
   "id": "dd6b42c3",
   "metadata": {},
   "outputs": [
    {
     "name": "stdout",
     "output_type": "stream",
     "text": [
      "janma kab woh sal dal chal- 2000\n",
      "age bad chal chal,matlb\n",
      "elgible\n"
     ]
    }
   ],
   "source": [
    "y=int(input(\"janma kab woh sal dal chal- \"))\n",
    "vay=2024-y\n",
    "try:\n",
    "    if vay<=30 & vay>20:\n",
    "        print(\"age bad chal chal,matlb\")\n",
    "        print(\"elgible\")\n",
    "    else:\n",
    "        raise dobEx\n",
    "except dobEx:\n",
    "        print(\"galat time pe janam liya,bada hai tu matlb\")\n",
    "        print(\"inelgible\")\n",
    "    "
   ]
  },
  {
   "cell_type": "markdown",
   "id": "1c459063",
   "metadata": {},
   "source": [
    "# OPPs-Inheritance"
   ]
  },
  {
   "cell_type": "code",
   "execution_count": 26,
   "id": "1324eb55",
   "metadata": {},
   "outputs": [],
   "source": [
    "# creation of class\n",
    "class anime:\n",
    "    def __init__(self,ep,mc,studio,name):\n",
    "        self.ep=ep\n",
    "        self.mc=mc\n",
    "        self.studio=studio\n",
    "        self.name=name\n",
    "    def big_3(self):\n",
    "        return \"this anime name is {} of {} studios\".format(self.name,self.studio)\n"
   ]
  },
  {
   "cell_type": "code",
   "execution_count": 29,
   "id": "d82ed6fc",
   "metadata": {},
   "outputs": [],
   "source": [
    "class new_anime(anime):\n",
    "    def __init__(self,ep,mc,studio,name,New_Gen):\n",
    "        super().__init__(ep,mc,studio,name)\n",
    "        self.New_Gen=New_Gen\n",
    "    def N_G(self,name):\n",
    "        print(\"this anime-{} is New generation.\")"
   ]
  },
  {
   "cell_type": "code",
   "execution_count": 30,
   "id": "fa263323",
   "metadata": {},
   "outputs": [],
   "source": [
    "d_s=new_anime(89,\"tanjiro\",\"ufotable\",\"Demon slayer\",True)"
   ]
  },
  {
   "cell_type": "code",
   "execution_count": 31,
   "id": "e3f53d6a",
   "metadata": {},
   "outputs": [
    {
     "data": {
      "text/plain": [
       "'Demon slayer'"
      ]
     },
     "execution_count": 31,
     "metadata": {},
     "output_type": "execute_result"
    }
   ],
   "source": [
    "d_s.name"
   ]
  },
  {
   "cell_type": "markdown",
   "id": "5fc31f92",
   "metadata": {},
   "source": [
    "# Magic methods in classes"
   ]
  },
  {
   "cell_type": "code",
   "execution_count": 32,
   "id": "a1333332",
   "metadata": {},
   "outputs": [],
   "source": [
    "#Magic methods in class: Suppose you have a class Character representing an\n",
    "#anime character. You can use magic methods like __init__ to initialize the character with a name and power level. \n",
    "#Here's an example:"
   ]
  },
  {
   "cell_type": "code",
   "execution_count": 33,
   "id": "6c04fdb9",
   "metadata": {},
   "outputs": [],
   "source": [
    "class Character:\n",
    "    def __init__(self, name, power):\n",
    "        self.name = name\n",
    "        self.power = power\n",
    "\n",
    "    def __str__(self):\n",
    "        return f\"{self.name} - Power: {self.power}\"\n"
   ]
  },
  {
   "cell_type": "code",
   "execution_count": 34,
   "id": "33fb6019",
   "metadata": {},
   "outputs": [],
   "source": [
    "#When you create a character object, the __init__ method is called to set \n",
    "#its initial state. The __str__ method is called when you try to print \n",
    "#the character, providing a readable representation."
   ]
  },
  {
   "cell_type": "code",
   "execution_count": 35,
   "id": "ee99a6c0",
   "metadata": {},
   "outputs": [],
   "source": [
    "#Default magic methods: Some magic methods have default behaviors. \n",
    "#For instance, if you don't define __str__, Python will use a default\n",
    "#one that may not be very informative.\n"
   ]
  },
  {
   "cell_type": "code",
   "execution_count": 36,
   "id": "a80c0f18",
   "metadata": {},
   "outputs": [],
   "source": [
    "# Overridden magic methods: You can override default magic methods to\n",
    "#customize behavior. For example, you can define __add__ to allow characters\n",
    "#to combine their powers:\n",
    "def __add__(self, other):\n",
    "    if isinstance(other, Character):\n",
    "        return Character(\"Combined Character\", self.power + other.power)\n",
    "    return NotImplemented\n"
   ]
  },
  {
   "cell_type": "code",
   "execution_count": 37,
   "id": "2d57b551",
   "metadata": {},
   "outputs": [],
   "source": [
    "#Override magic methods: Continuing the example, \n",
    "#you can also override __lt__ to compare \n",
    "#characters based on their power levels:\n",
    "def __lt__(self, other):\n",
    "    if isinstance(other, Character):\n",
    "        return self.power < other.power\n",
    "    return NotImplemented\n",
    "#These magic methods help you create intuitive and\n",
    "#powerful interactions between your anime characters"
   ]
  },
  {
   "cell_type": "code",
   "execution_count": 38,
   "id": "40dc2ccd",
   "metadata": {},
   "outputs": [
    {
     "data": {
      "text/plain": [
       "['__class__',\n",
       " '__delattr__',\n",
       " '__dict__',\n",
       " '__dir__',\n",
       " '__doc__',\n",
       " '__eq__',\n",
       " '__format__',\n",
       " '__ge__',\n",
       " '__getattribute__',\n",
       " '__getstate__',\n",
       " '__gt__',\n",
       " '__hash__',\n",
       " '__init__',\n",
       " '__init_subclass__',\n",
       " '__le__',\n",
       " '__lt__',\n",
       " '__module__',\n",
       " '__ne__',\n",
       " '__new__',\n",
       " '__reduce__',\n",
       " '__reduce_ex__',\n",
       " '__repr__',\n",
       " '__setattr__',\n",
       " '__sizeof__',\n",
       " '__str__',\n",
       " '__subclasshook__',\n",
       " '__weakref__']"
      ]
     },
     "execution_count": 38,
     "metadata": {},
     "output_type": "execute_result"
    }
   ],
   "source": [
    "dir(Character)"
   ]
  },
  {
   "cell_type": "markdown",
   "id": "30c4deb3",
   "metadata": {},
   "source": [
    "# Assert Statement Methods in classes"
   ]
  },
  {
   "cell_type": "code",
   "execution_count": 39,
   "id": "ba0e6545",
   "metadata": {},
   "outputs": [],
   "source": [
    "# used to check if logical expression is True or False\n",
    "#only proceeds only if True else it raises execption\n"
   ]
  },
  {
   "cell_type": "code",
   "execution_count": 40,
   "id": "3a85802d",
   "metadata": {},
   "outputs": [
    {
     "ename": "AssertionError",
     "evalue": "",
     "output_type": "error",
     "traceback": [
      "\u001b[1;31m---------------------------------------------------------------------------\u001b[0m",
      "\u001b[1;31mAssertionError\u001b[0m                            Traceback (most recent call last)",
      "Cell \u001b[1;32mIn[40], line 2\u001b[0m\n\u001b[0;32m      1\u001b[0m num\u001b[38;5;241m=\u001b[39m\u001b[38;5;241m10\u001b[39m\n\u001b[1;32m----> 2\u001b[0m \u001b[38;5;28;01massert\u001b[39;00m num\u001b[38;5;241m>\u001b[39m\u001b[38;5;241m10\u001b[39m\n",
      "\u001b[1;31mAssertionError\u001b[0m: "
     ]
    }
   ],
   "source": [
    "num=10\n",
    "assert num>10 "
   ]
  },
  {
   "cell_type": "code",
   "execution_count": 41,
   "id": "f212435c",
   "metadata": {},
   "outputs": [
    {
     "name": "stdout",
     "output_type": "stream",
     "text": [
      "number ghal:3\n",
      "even numbe ghal re baba\n"
     ]
    }
   ],
   "source": [
    "try:\n",
    "    num=int(input(\"number ghal:\"))\n",
    "    assert num%2==0\n",
    "    print(\"even ahe\")\n",
    "except AssertionError:\n",
    "    print(\"even numbe ghal re baba\")"
   ]
  },
  {
   "cell_type": "markdown",
   "id": "f475cb54",
   "metadata": {},
   "source": [
    "# Iterators Vs Generators"
   ]
  },
  {
   "cell_type": "code",
   "execution_count": 42,
   "id": "070a5dcd",
   "metadata": {},
   "outputs": [
    {
     "name": "stdout",
     "output_type": "stream",
     "text": [
      "1\n",
      "2\n",
      "3\n",
      "4\n",
      "5\n"
     ]
    }
   ],
   "source": [
    "#In Python, iterators and generators are both used to iterate over a sequence of items, but they differ in their implementation and usage. Let's explore their differences and provide examples in a Jupyter Notebook (.ipynb) context:\n",
    "\n",
    "#Iterator:\n",
    "#Definition: An iterator is an object that implements the iterator protocol, which consists of the __iter__ method (returns the iterator object itself) and the __next__ method (returns the next item in the sequence).\n",
    "#Use case: Iterators are useful when you need to traverse a sequence of items one by one and perform operations on each item without loading the entire sequence into memory.\n",
    "#Example:\n",
    "class MyIterator:\n",
    "    def __init__(self, data):\n",
    "        self.data = data\n",
    "        self.index = 0\n",
    "\n",
    "    def __iter__(self):\n",
    "        return self\n",
    "\n",
    "    def __next__(self):\n",
    "        if self.index >= len(self.data):\n",
    "            raise StopIteration\n",
    "        value = self.data[self.index]\n",
    "        self.index += 1\n",
    "        return value\n",
    "\n",
    "# Usage\n",
    "my_iter = MyIterator([1, 2, 3, 4, 5])\n",
    "for item in my_iter:\n",
    "    print(item)\n"
   ]
  },
  {
   "cell_type": "code",
   "execution_count": 44,
   "id": "4c385335",
   "metadata": {},
   "outputs": [
    {
     "name": "stdout",
     "output_type": "stream",
     "text": [
      "1\n",
      "2\n",
      "3\n",
      "4\n",
      "5\n"
     ]
    }
   ],
   "source": [
    "#Generator:\n",
    "\n",
    "#Definition: A generator is a function that uses the yield keyword to return values one at a time, suspending its state between calls.\n",
    "\n",
    "#Use case: Generators are useful when you want to generate a sequence of values lazily (i.e., on demand) without storing them in memory.\n",
    "\n",
    "#Example:\n",
    "def my_generator(data):\n",
    "    for item in data:\n",
    "        yield item\n",
    "\n",
    "# Usage\n",
    "gen = my_generator([1, 2, 3, 4, 5])\n",
    "for item in gen:\n",
    "    print(item)\n",
    "\n"
   ]
  },
  {
   "cell_type": "code",
   "execution_count": null,
   "id": "f7b9358e",
   "metadata": {},
   "outputs": [],
   "source": [
    "#you can use both iterators and generators to process and iterate over data efficiently, especially when dealing with large datasets or when memory optimization is required"
   ]
  },
  {
   "cell_type": "code",
   "execution_count": null,
   "id": "e2e0ef89",
   "metadata": {},
   "outputs": [],
   "source": [
    "# # the main difference between iterators and generators lies in their implementation and usage patterns, particularly in terms of simplicity and memory efficiency:\n",
    "\n",
    "# Iterator:\n",
    "    \n",
    "# Implementation: Requires defining a class with __iter__ and __next__ methods to create an iterator object.\n",
    "# Usage: Typically used when you need custom iteration behavior or when working with complex data structures. Iterators can be more verbose due to the class definition.\n",
    "# Memory: Iterators are more memory efficient than generators when dealing with large datasets since they don't store the entire sequence in memory.\n",
    "# Generator:\n",
    "# Implementation: Implemented using a simple function with the yield keyword to create a generator object.\n",
    "# Usage: Preferred for simpler iteration tasks or when you want to write concise and readable code. Generators are more straightforward to implement and use compared to iterators.\n",
    "# Memory: Generators are more memory friendly for large datasets since they generate values on the fly and do not store the entire sequence in memory.\n",
    "# In summary, iterators are more suitable for complex iteration scenarios where you need full control over the iteration process, while generators are preferable for simpler cases where you want to write concise and efficient code. In Jupyter Notebooks, you can choose between iterators and generators based on your specific requirements and the complexity of your iteration tasks."
   ]
  },
  {
   "cell_type": "markdown",
   "id": "97a0e5c9",
   "metadata": {},
   "source": [
    "# Decorators"
   ]
  },
  {
   "cell_type": "code",
   "execution_count": 45,
   "id": "055a7393",
   "metadata": {},
   "outputs": [],
   "source": [
    "def welcome():\n",
    "    return \"kay chalay\"\n"
   ]
  },
  {
   "cell_type": "code",
   "execution_count": 51,
   "id": "f7cc7af3",
   "metadata": {},
   "outputs": [],
   "source": [
    "wel=welcome()\n",
    "del welcome"
   ]
  },
  {
   "cell_type": "code",
   "execution_count": 52,
   "id": "815181c9",
   "metadata": {},
   "outputs": [
    {
     "data": {
      "text/plain": [
       "'kay chalay'"
      ]
     },
     "execution_count": 52,
     "metadata": {},
     "output_type": "execute_result"
    }
   ],
   "source": [
    "wel"
   ]
  },
  {
   "cell_type": "code",
   "execution_count": 53,
   "id": "0ca9a68d",
   "metadata": {},
   "outputs": [
    {
     "ename": "NameError",
     "evalue": "name 'welcome' is not defined",
     "output_type": "error",
     "traceback": [
      "\u001b[1;31m---------------------------------------------------------------------------\u001b[0m",
      "\u001b[1;31mNameError\u001b[0m                                 Traceback (most recent call last)",
      "Cell \u001b[1;32mIn[53], line 1\u001b[0m\n\u001b[1;32m----> 1\u001b[0m welcome()\n",
      "\u001b[1;31mNameError\u001b[0m: name 'welcome' is not defined"
     ]
    }
   ],
   "source": [
    "welcome()"
   ]
  },
  {
   "cell_type": "code",
   "execution_count": 57,
   "id": "c60160b9",
   "metadata": {},
   "outputs": [],
   "source": [
    "# closures\n",
    "def main_welcome(msg):\n",
    "    \n",
    "    def sub_welcome_class():\n",
    "        print(\"kay mag\")\n",
    "        print(msg)\n",
    "        print(\"nivant na\")\n",
    "\n",
    "    return sub_welcome_class()"
   ]
  },
  {
   "cell_type": "code",
   "execution_count": 58,
   "id": "4024efbe",
   "metadata": {},
   "outputs": [
    {
     "name": "stdout",
     "output_type": "stream",
     "text": [
      "kay mag\n",
      "hoy\n",
      "nivant na\n"
     ]
    }
   ],
   "source": [
    "main_welcome(\"hoy\")"
   ]
  },
  {
   "cell_type": "code",
   "execution_count": 59,
   "id": "6a1bf009",
   "metadata": {},
   "outputs": [],
   "source": [
    "# closure and intial decorators\n",
    "\n",
    "def main_welcome(func):\n",
    "    \n",
    "    def sub_welcome_class():\n",
    "        print(\"kay mag\")\n",
    "        print(func([1,2,3,4,5,6]))\n",
    "        print(\"nivant na\")\n",
    "    return sub_welcome_class()"
   ]
  },
  {
   "cell_type": "code",
   "execution_count": 61,
   "id": "4c6255c3",
   "metadata": {},
   "outputs": [
    {
     "name": "stdout",
     "output_type": "stream",
     "text": [
      "kay mag\n",
      "6\n",
      "nivant na\n"
     ]
    }
   ],
   "source": [
    "main_welcome(len)"
   ]
  },
  {
   "cell_type": "code",
   "execution_count": 65,
   "id": "72320458",
   "metadata": {},
   "outputs": [],
   "source": [
    "# decorators \n",
    "def main_welcome(func):\n",
    "    \n",
    "    def sub_welcome_class():\n",
    "        print(\"kay mag\")\n",
    "        func()\n",
    "        print(\"nivant na\")\n",
    "    return sub_welcome_class()"
   ]
  },
  {
   "cell_type": "code",
   "execution_count": 66,
   "id": "6bb75cc4",
   "metadata": {},
   "outputs": [
    {
     "name": "stdout",
     "output_type": "stream",
     "text": [
      "kay mag\n",
      "kasa kay\n",
      "nivant na\n"
     ]
    }
   ],
   "source": [
    "@main_welcome\n",
    "def vichar():\n",
    "    print(\"kasa kay\")"
   ]
  },
  {
   "cell_type": "code",
   "execution_count": null,
   "id": "f1c639b8",
   "metadata": {},
   "outputs": [],
   "source": []
  },
  {
   "cell_type": "code",
   "execution_count": null,
   "id": "85709a84",
   "metadata": {},
   "outputs": [],
   "source": []
  },
  {
   "cell_type": "code",
   "execution_count": null,
   "id": "5db128a3",
   "metadata": {},
   "outputs": [],
   "source": []
  },
  {
   "cell_type": "code",
   "execution_count": null,
   "id": "1b1d5ca7",
   "metadata": {},
   "outputs": [],
   "source": []
  },
  {
   "cell_type": "code",
   "execution_count": null,
   "id": "b26a4468",
   "metadata": {},
   "outputs": [],
   "source": []
  },
  {
   "cell_type": "code",
   "execution_count": null,
   "id": "d1076f12",
   "metadata": {},
   "outputs": [],
   "source": []
  },
  {
   "cell_type": "code",
   "execution_count": null,
   "id": "ab274c2f",
   "metadata": {},
   "outputs": [],
   "source": []
  }
 ],
 "metadata": {
  "kernelspec": {
   "display_name": "Python 3 (ipykernel)",
   "language": "python",
   "name": "python3"
  },
  "language_info": {
   "codemirror_mode": {
    "name": "ipython",
    "version": 3
   },
   "file_extension": ".py",
   "mimetype": "text/x-python",
   "name": "python",
   "nbconvert_exporter": "python",
   "pygments_lexer": "ipython3",
   "version": "3.11.4"
  }
 },
 "nbformat": 4,
 "nbformat_minor": 5
}
